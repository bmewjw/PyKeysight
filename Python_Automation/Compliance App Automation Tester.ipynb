{
 "metadata": {
  "name": "",
  "signature": "sha256:08b9c8a0cfdc12787b30824b016eb7a19591033c81659db1e6545cfe83a265d7"
 },
 "nbformat": 3,
 "nbformat_minor": 0,
 "worksheets": [
  {
   "cells": [
    {
     "cell_type": "code",
     "collapsed": false,
     "input": [
      "from visa import instrument # Import the instrument function from the visa module\n",
      "scope = instrument(\"TCPIP0::141.121.97.37::inst0::INSTR\") # Connect to the scope using the VISA address (see below)\n",
      "scope.ask(\"*IDN?\") # Query the IDN properties of the scope"
     ],
     "language": "python",
     "metadata": {},
     "outputs": [
      {
       "metadata": {},
       "output_type": "pyout",
       "prompt_number": 1,
       "text": [
        "u'Agilent Technologies,MSOX93204A,MY53240105,05.10.0003\\n'"
       ]
      }
     ],
     "prompt_number": 1
    },
    {
     "cell_type": "code",
     "collapsed": false,
     "input": [
      "# First set up the connection to the RPI DLL via the Python for .NET module\n",
      "import clr # Import the Common Runtime Library Python module\n",
      "clr.AddReference(\"Agilent.Infiniium.AppFW.Remote\") # Create a reference from CLR to the Compliance App DLL\n",
      "from Agilent.Infiniium.AppFW.Remote import * # Import the entire compliance app namespace from the Compliance App DLL\n",
      "scopeIpAddress = \"141.121.97.37\""
     ],
     "language": "python",
     "metadata": {},
     "outputs": [],
     "prompt_number": 2
    },
    {
     "cell_type": "code",
     "collapsed": false,
     "input": [
      "scope.write(':SYSTEM:LAUNCH \"N6462A/N6462B DDR4 Test App\"') # Launch the compliance app using the pyvisa instrument connection"
     ],
     "language": "python",
     "metadata": {},
     "outputs": []
    },
    {
     "cell_type": "code",
     "collapsed": false,
     "input": [
      "remoteObj = RemoteAteUtilities.GetRemoteAte(scopeIpAddress) # Connect to the compliance app\n",
      "remoteApp = IRemoteAte(remoteObj)"
     ],
     "language": "python",
     "metadata": {},
     "outputs": [],
     "prompt_number": 4
    },
    {
     "cell_type": "code",
     "collapsed": false,
     "input": [
      "remoteObj = RemoteAteUtilities.GetRemoteAte(scopeIpAddress) # Connect to the compliance app\n",
      "remoteApp = IRemoteAte(remoteObj)"
     ],
     "language": "python",
     "metadata": {},
     "outputs": [],
     "prompt_number": 5
    },
    {
     "cell_type": "code",
     "collapsed": false,
     "input": [
      "remoteApp.SetConfig(\"DeviceType\", \"DDR4-1866\")"
     ],
     "language": "python",
     "metadata": {},
     "outputs": [],
     "prompt_number": 7
    },
    {
     "cell_type": "code",
     "collapsed": false,
     "input": [
      "remoteApp.SetConfig(\"5.4 Gbps\", \"1.0\")"
     ],
     "language": "python",
     "metadata": {},
     "outputs": [],
     "prompt_number": 7
    },
    {
     "cell_type": "code",
     "collapsed": false,
     "input": [
      "csv_options = ExportCsvOptions()"
     ],
     "language": "python",
     "metadata": {},
     "outputs": [],
     "prompt_number": 8
    },
    {
     "cell_type": "code",
     "collapsed": false,
     "input": [
      "csv_options.FileName = 'test.csv'"
     ],
     "language": "python",
     "metadata": {},
     "outputs": [],
     "prompt_number": 10
    },
    {
     "cell_type": "code",
     "collapsed": false,
     "input": [
      "remoteApp.ExportResultsCsvCustom(csv_options)"
     ],
     "language": "python",
     "metadata": {},
     "outputs": [
      {
       "metadata": {},
       "output_type": "pyout",
       "prompt_number": 13,
       "text": [
        "u'C:\\\\ProgramData\\\\Agilent\\\\Infiniium\\\\Apps\\\\DisplayPortTest\\\\Project\\\\test.csv'"
       ]
      }
     ],
     "prompt_number": 13
    },
    {
     "cell_type": "code",
     "collapsed": false,
     "input": [
      "for options in alloptions:\n",
      "    print options"
     ],
     "language": "python",
     "metadata": {},
     "outputs": [
      {
       "output_type": "stream",
       "stream": "stdout",
       "text": [
        "GUI Location=Confgure Label=ProbeHead Check Variable=EnableProbeHeadCheck Values=1.0,0.0 Description=When ProbeHead check is enabled, the input signal's probe head configuration is verified. This is only done when performing DualPort Testing in Gen2 System Board Test.\n",
        "GUI Location=Confgure Label=Signal Check Variable=EnableSignalCheck Values=1.0,0.0 Description=When signal check is enabled, the input signal is pre-tested and verified to be within a reasonable range of timing and voltage limits. This can be useful for detecting problems like cabling errors before a test is run.\n",
        "GUI Location=Confgure Label=S-Parameter for Add-in Card Variable=AddInSParamFilePath Values=(Accepts user-defined text) Description=Stores the s-parameter file path for Add-in card tests.\n",
        "GUI Location=Confgure Label=S-Parameter for System Board Variable=SystemSParamFilePath Values=(Accepts user-defined text) Description=Stores the s-parameter file path for System board tests.\n",
        "GUI Location=Confgure Label=Deembed Fixture (dB) Variable=Deembed Values=(Accepts user-defined text),0.0,-0.50,-1.00,-1.50 Description=Identify the amount of fixture and cable loss in dB. Probe external scaling will be set to compensate. Maximum compensation value is -60dB.\n",
        "GUI Location=Confgure Label=Noise Reduction BW, GHz Variable=EBW Values=0.0,13.0E+9,12.0E+9,10.0E+9,8.0E+9,7.0E+9,6.0E+9,5.0E+9,4.0E+9,3.0E+9,2.0E+9,1.0E+9 Description=(Limited availability)Specify the noise reduction bandwidth to use for all tests.\n",
        "GUI Location=Confgure Label=Sample Rate, GSa/s Variable=SRate_Gen2 Values=80.0E+9,40.0E+9,20.0E+9,10.0E+9 Description=(Limited availability)Specify the sample rate to use for all PCIE 2.0 (5.0 GT/s) tests or PCIE 3.0 (8.0 GT/s) tests.\n",
        "GUI Location=Confgure Label=Sample Rate, GSa/s Variable=SRate Values=80.0E+9,40.0E+9,20.0E+9,10.0E+9,5.0E+9 Description=(Limited availability)Specify the sample rate to use for all PCIE 1.0a, PCIE 1.1 , PCIe 2.0 (2.5 GT/s) and Express Card 1.0 tests.\n",
        "GUI Location=Confgure Label=Number of UI Variable=NumUIGen2Test Values=(Accepts user-defined text),1.6E+6,1.0E+6,500.0E+3,250.0E+3,100.0E+3,50.0E+3 Description=This is the minimum number of unit intervals used in the Eye-Width, TJ at BER-12, Maximum DJ , RMS RJ  and Template tests. These measurements should be made using the compliance pattern at a sample size of at least 1E+6 (1,000,000) UI as specified in the PCI Express CEM Specification Rev. 2.0. Specifying a greater number of UI will increase the test time and accuracy of the tests.\n",
        "GUI Location=Confgure Label=Number of UI Variable=NumUIGen1Test Values=(Accepts user-defined text),1.6E+6,1.0E+6,500.0E+3,250.0E+3,100.0E+3,50.0E+3 Description=This is the minimum number of unit intervals used in the Eye-Width, TJ at BER-12, Maximum DJ , RMS RJ  and Template tests. These measurements should be made using the compliance pattern at a sample size of at least 1E+6 (1,000,000) UI as specified in the PCI Express CEM Specification Rev. 2.0. Specifying a greater number of UI will increase the test time and accuracy of the tests.\n",
        "GUI Location=Confgure Label=Connection Type Variable=TxConnectionType Values=1,2,3,4,5,6,7,8 Description=Identifies the channels to process. For Direct Connect, connect the first channel to the + signal and the second channel to the - signal.\n",
        "GUI Location=Confgure Label=Connection Type Variable=RxConnectionType Values=1,2,3,4,5,6 Description=Identifies the channels to process. For Direct Connect, connect the first channel to the + signal and the second channel to the - signal.\n",
        "GUI Location=Confgure Label=Connection Type Variable=AddinTxConnectionType Values=1,2,3,4,5,6,7,8 Description=Identifies the channels to process. For Direct Connect, connect the first channel to the + signal and the second channel to the - signal.\n",
        "GUI Location=Confgure Label=Connection Type Variable=Gen3RxConnectionType Values=1,2,3,4,5,6 Description=Identifies the channels to process. For Direct Connect, connect the first channel to the + signal and the second channel to the - signal.\n",
        "GUI Location=Confgure Label=Connection Type Variable=Gen2SystemTxConnectionType Values=11,12,13,14 Description=(Limited availability)Identifies the channels to process.\n",
        "GUI Location=Confgure Label=Connection Type Variable=SystemTxConnectionType Values=1,2,3,4,5,6,7,8 Description=Identifies the channels to process. For Direct Connect, connect the first channel to the + signal and the second channel to the - signal.\n",
        "GUI Location=Confgure Label=Connection Type Variable=RefClkConnectionType Values=1,2,3,4,5,6,7,8 Description=Identifies the channels to process. For Direct Connect, connect the first channel to the + signal and the second channel to the - signal.\n",
        "GUI Location=Confgure Label=Connection Type Variable=ECModuleTxConnectionType Values=1,2,3,4,5,6,7,8 Description=Identifies the channels to process. For Direct Connect, connect the first channel to the + signal and the second channel to the - signal.\n",
        "GUI Location=Confgure Label=Connection Type Variable=ECHostTxConnectionType Values=1,2,3,4,5,6,7,8 Description=Identifies the channels to process. For Direct Connect, connect the first channel to the + signal and the second channel to the - signal.\n",
        "GUI Location=Confgure Label=Differential waveform file name Variable=DiffWfmFile Values=(Accepts user-defined text),None Description=This variable use to store the directory of the differential data waveform file.\n",
        "GUI Location=Confgure Label=Single ended positive waveform file name Variable=DPWfmFile Values=(Accepts user-defined text),None Description=This variable use to store the directory of the single ended positive data waveform file.\n",
        "GUI Location=Confgure Label=Single ended negative waveform file name Variable=DNWfmFile Values=(Accepts user-defined text),None Description=This variable use to store the directory of the single ended negative data waveform file.\n",
        "GUI Location=Confgure Label=Differential clock waveform file name Variable=DiffClkWfmFile Values=(Accepts user-defined text),None Description=This variable use to store the directory of the differential clock waveform file.\n",
        "GUI Location=Confgure Label=Single ended positive clock waveform file name Variable=ClkDPWfmFile Values=(Accepts user-defined text),None Description=This variable use to store the directory of the single ended positive clock waveform file.\n",
        "GUI Location=Confgure Label=Single ended negative clock waveform file name Variable=ClkDNWfmFile Values=(Accepts user-defined text),None Description=This variable use to store the directory of the single ended negative clock waveform file.\n",
        "GUI Location=Confgure Label=Single ended negative clock waveform file name Variable=OfflineInput Values=(Accepts user-defined text),None Description=This variable use to store the type of offline waveform, \"SingleEnded\" or \"Differential\".\n",
        "GUI Location=Confgure Label=Transition Time Threshold Variable=TransitionTimeThreshold Values=Fixed,Variable Description=Select the threshold method used to measure transition time.Fixed method applied the same threshold for all edges. Variable method applied threshold based on the previous and the next unit interval.\n",
        "GUI Location=Confgure Label=Num Clock UI Variable=NumClockUI Values=(Accepts user-defined text),1000000,500000,100000,50000 Description=This is the number of clock unit intervals processed when calculating clock jitter. For compliance testing, this measurement requires 1,000,000 UI to guarantee the proper bit error rate (10E-6 BER) as specified in the PCI Express Base Specification Rev.  1.1. The allowed values for this control are between 1000 and 3,000,000 UIs.\n",
        "GUI Location=Confgure Label=Sample rate, GSa/s Variable=ClockSR Values=80.0E+9,40.0E+9,20.0E+9,10.0E+9,5.0E+9,2.0E+9,1.0E+9 Description=Select the sample rate to acquire reference clock signal.\n",
        "GUI Location=Confgure Label=Gen 2 Ref Clock Transfer Function (Common Clock) Variable=Gen2CommonRefClkTF Values=H1: 5MHz, 1.0dB peaking | H2: 16MHz, 3.0dB peaking,H1: 8MHz, 3.0dB peaking | H2: 16MHz, 3.0dB peaking Description=Select the transfer function for Gen 2 reference clock signal.\n",
        "GUI Location=Confgure Label=Gen 3 Ref Clock Transfer Function (Common Clock) Variable=Gen3CommonRefClkTF Values=H1: 2MHz, 0.01dB peaking | H2: 2MHz, 0.01dB peaking,H1: 2MHz, 0.01dB peaking | H2: 2MHz, 1.0dB peaking,H1: 2MHz, 0.01dB peaking | H2: 5MHz, 0.01dB peaking,H1: 2MHz, 0.01dB peaking | H2: 5MHz, 1.0dB peaking,H1: 2MHz, 2.0dB peaking | H2: 2MHz, 0.01dB peaking,H1: 2MHz, 2.0dB peaking | H2: 2MHz, 1.0dB peaking,H1: 2MHz, 2.0dB peaking | H2: 5MHz, 0.01dB peaking,H1: 2MHz, 2.0dB peaking | H2: 5MHz, 1.0dB peaking,H1: 4MHz, 0.01dB peaking | H2: 2MHz, 0.01dB peaking,H1: 4MHz, 0.01dB peaking | H2: 2MHz, 1.0dB peaking,H1: 4MHz, 0.01dB peaking | H2: 5MHz, 0.01dB peaking,H1: 4MHz, 0.01dB peaking | H2: 5MHz, 1.0dB peaking,H1: 4MHz, 2.0dB peaking | H2: 2MHz, 0.01dB peaking,H1: 4MHz, 2.0dB peaking | H2: 2MHz, 1.0dB peaking,H1: 4MHz, 2.0dB peaking | H2: 5MHz, 0.01dB peaking,H1: 4MHz, 2.0dB peaking | H2: 5MHz, 1.0dB peaking Description=Select the transfer function for Gen 3 reference clock signal.\n",
        "GUI Location=Confgure Label=Gen 3 Ref Clock Transfer Function (Data Clock) Variable=Gen3DataRefClkTF Values=H1: 2MHz, 0.01dB peaking | H2: 10MHz, 0.5dB peaking,H1: 2MHz, 1.0dB peaking | H2: 10MHz, 0.5dB peaking,H1: 2MHz, 2.0dB peaking | H2: 10MHz, 0.5dB peaking,H1: 2MHz, 0.01dB peaking | H2: 10MHz, 2.0dB peaking,H1: 2MHz, 1.0dB peaking | H2: 10MHz, 2.0dB peaking,H1: 2MHz, 2.0dB peaking | H2: 10MHz, 2.0dB peaking,H1: 4MHz, 0.01dB peaking | H2: 10MHz, 0.5dB peaking,H1: 4MHz, 0.01dB peaking | H2: 10MHz, 2.0dB peaking,H1: 4MHz, 2.0dB peaking | H2: 10MHz, 0.5dB peaking,H1: 4MHz, 2.0dB peaking | H2: 10MHz, 2.0dB peaking,H1: 5MHz, 0.01dB peaking | H2: 10MHz, 0.5dB peaking,H1: 5MHz, 0.01dB peaking | H2: 10MHz, 2.0dB peaking,H1: 5MHz, 1.0dB peaking | H2: 10MHz, 0.5dB peaking,H1: 5MHz, 1.0dB peaking | H2: 10MHz, 2.0dB peaking Description=Select the transfer function for Gen 3 reference clock signal.\n",
        "GUI Location=Confgure Label=Stitch Method Variable=StitchMethod Values=Absolute,Dynamic Description=Select the method to stitch the waveform for reference clock phase jitter test. Absolute method stitches the waveform based on absolute data. Dynamic method aligns waveform data to have common offset before stitching. This option only applies when Spread Sprectrum Clocking is enabled.\n",
        "GUI Location=Confgure Label=Show Jitter Filter Plot Variable=ShowJitterFilterPlot Values=0,2,3,4,5 Description=Select the clock jitter plot to display. Generating plots will increase test runtime.\n",
        "GUI Location=Confgure Label=Output Filename Variable=RefClkOutputCSVFilename Values=(Accepts user-defined text),None,Auto Description=Output Filename.\n",
        "GUI Location=Confgure Label=De-Emphasis Removal Variable=EnableDeEmpRemoval Values=1.0,0.0 Description=Enable or Disable De-Emphasis Removal feature for the jitter and eye width measurement of the transmitter test.\n",
        "GUI Location=Confgure Label=Rise/Fall Time Measurement Count  Variable=RiseFallCount Values=10.0E+3,5.0E+3,2.0E+3,1.0E+3,500.0E+0,200.0E+0 Description=Select the minimum measurement count for each rise time and fall time for the Rise/Fal time measurement with variable threshold.\n",
        "GUI Location=Confgure Label=RJ Bandwidth Variable=RJBW Values=NARR,WIDE Description=Select the RJ bandwidth.\n",
        "GUI Location=Confgure Label=Trigger Pulse Width, s Variable=TrigPulseWidth Values=8.0E-9,7.0E-9,6.0E-9,5.0E-9 Description=(Limited availability)Specify the width in second for the Pulse Width Trigger setup.\n",
        "GUI Location=Confgure Label=Clock Recovery Delta Time Variable=ClockRecoveryDeltaTime Values=Fixed,Variable Description=Select the clock recovery delta time from compliance pattern of 64 zeroes and 64 ones\n",
        "GUI Location=Confgure Label=Sine(x)/x Interpolation Variable=SineXInterpolation Values=ON,OFF,INT1,INT2,INT4,INT8 Description=Sine(x)/x Interpolation.\n",
        "GUI Location=Set Up Label=User Comments Variable=txtUserComment Values=(Accepts user-defined text) Description=Optional user comments displayed in the test report. \n",
        "GUI Location=Set Up Label=Lane0 Variable=Lane0 Values=0.0,1.0 Description=Select tests performed at the transmitter package pins. \n",
        "GUI Location=Set Up Label=Lane1 Variable=Lane1 Values=0.0,1.0 Description=Select tests performed at the transmitter package pins. \n",
        "GUI Location=Set Up Label=Lane2 Variable=Lane2 Values=0.0,1.0 Description=Select tests performed at the transmitter package pins. \n",
        "GUI Location=Set Up Label=Lane3 Variable=Lane3 Values=0.0,1.0 Description=Select tests performed at the transmitter package pins. \n",
        "GUI Location=Set Up Label=Lane4 Variable=Lane4 Values=0.0,1.0 Description=Select tests performed at the transmitter package pins. \n",
        "GUI Location=Set Up Label=Lane5 Variable=Lane5 Values=0.0,1.0 Description=Select tests performed at the transmitter package pins. \n",
        "GUI Location=Set Up Label=Lane6 Variable=Lane6 Values=0.0,1.0 Description=Select tests performed at the transmitter package pins. \n",
        "GUI Location=Set Up Label=Lane7 Variable=Lane7 Values=0.0,1.0 Description=Select tests performed at the transmitter package pins. \n",
        "GUI Location=Set Up Label=Lane8 Variable=Lane8 Values=0.0,1.0 Description=Select tests performed at the transmitter package pins. \n",
        "GUI Location=Set Up Label=Lane9 Variable=Lane9 Values=0.0,1.0 Description=Select tests performed at the transmitter package pins. \n",
        "GUI Location=Set Up Label=Lane10 Variable=Lane10 Values=0.0,1.0 Description=Select tests performed at the transmitter package pins. \n",
        "GUI Location=Set Up Label=Lane11 Variable=Lane11 Values=0.0,1.0 Description=Select tests performed at the transmitter package pins. \n",
        "GUI Location=Set Up Label=Lane12 Variable=Lane12 Values=0.0,1.0 Description=Select tests performed at the transmitter package pins. \n",
        "GUI Location=Set Up Label=Lane13 Variable=Lane13 Values=0.0,1.0 Description=Select tests performed at the transmitter package pins. \n",
        "GUI Location=Set Up Label=Lane14 Variable=Lane14 Values=0.0,1.0 Description=Select tests performed at the transmitter package pins. \n",
        "GUI Location=Set Up Label=Lane15 Variable=Lane15 Values=0.0,1.0 Description=Select tests performed at the transmitter package pins. \n",
        "GUI Location=Set Up Label=Embed Enable Checkbox Variable=OfflineEnable Values=0.0,1.0 Description=Select tests peformed at the reference clock interface. \n",
        "GUI Location=Set Up Label=Device Variable=DevicePCIErev Values=PCIE 1.0a,PCIE 1.1,PCIE 2.0,PCIE 3.0,Express Card 1.0 Description=Select the PCI Express device specification to use. \n",
        "GUI Location=Set Up Label=Device ID Variable=txtDeviceID Values=(Accepts user-defined text) Description=Optional user defined device ID displayed in the test report. \n",
        "GUI Location=Set Up Label=cmbPresetType Variable=cmbPresetType Values=(Accepts user-defined text),None,P0,P1,P2,P3,P5,P6,P7,P8,P9,P10 Description=Connection Type \n",
        "GUI Location=Set Up Label=Data Rate Variable=DataRateOpt Values=2.5 GT/s,5.0 GT/s,8.0 GT/s Description=Select data rate option for PCIE Gen2 test signal. \n",
        "GUI Location=Set Up Label=Power Level Variable=PowerLevel Values=Full,Half Description=Select the PCI Express device Power Level to use. \n",
        "GUI Location=Set Up Label=De-Emphasis Mode Variable=DeEmpOpt Values=-3.5 dB,-6.0 dB,None Description=Select de-emphasis level for PCIE Gen2 test signal. \n",
        "GUI Location=Set Up Label=Clean Clock Variable=persistentCheckBox_Clean Values=0.0,1.0 Description=Indicate whether a Clean Clock is used. \n",
        "GUI Location=Set Up Label=SSC Variable=persistentCheckBox_SSC Values=0.0,1.0 Description=Indicate whether Spread Spectrum Clock is used. \n",
        "GUI Location=Set Up Label=System Board Tests Variable=TestPoint_SystemBoard Values=0.0,1.0 Description=Select tests peformed at the add-in card interface on the system board transmitter path. \n",
        "GUI Location=Set Up Label=RefClk Tests Variable=TestPoint_RefClk Values=0.0,1.0 Description=Select tests peformed at the reference clock interface. \n",
        "GUI Location=Set Up Label=Add-in Card Tests Variable=TestPoint_AddInCard Values=0.0,1.0 Description=Select tests peformed at the add-in card interface on the add-in card transmitter path. \n",
        "GUI Location=Set Up Label=Receiver Tests Variable=TestPoint_Receiver Values=0.0,1.0 Description=Select tests peformed at the receiver. \n",
        "GUI Location=Set Up Label=Express Card Host Variable=TestPoint_ExpressCardHost Values=0.0,1.0 Description=Select tests peformed on Express Card Hosts. \n",
        "GUI Location=Set Up Label=Transmitter Tests Variable=TestPoint_Transmitter Values=0.0,1.0 Description=Select tests performed at the transmitter package pins. \n",
        "GUI Location=Set Up Label=Express Card Module Variable=TestPoint_ExpressCardModule Values=0.0,1.0 Description=Select tests peformed on Express Card Modules. \n",
        "GUI Location=Set Up Label=Preset Tests For Gen 3 Variable=TestPoint_Calibration Values=0.0,1.0 Description=Select tests peformed at the reference clock interface. \n",
        "GUI Location=Run Tests Label=RunEvent=Margin < N: Minimum required margin % Variable=RunEvent_Margin < N_MinPercent Values=Any integer in range: 0 <= value <= 100 Description=Specify N using the 'Minimum required margin %' control.\n",
        "GUI Location=Run Tests Label=Event Variable=RunEvent Values=(None),Fail,Margin < N,Pass Description=Names of events that can be used with the StoreMode=Event or RunUntil RunEventAction options\n"
       ]
      }
     ],
     "prompt_number": 11
    },
    {
     "cell_type": "code",
     "collapsed": false,
     "input": [
      "remoteApp.DebugMode = False"
     ],
     "language": "python",
     "metadata": {},
     "outputs": [
      {
       "ename": "TypeError",
       "evalue": "No method matches given arguments",
       "output_type": "pyerr",
       "traceback": [
        "\u001b[1;31m---------------------------------------------------------------------------\u001b[0m\n\u001b[1;31mTypeError\u001b[0m                                 Traceback (most recent call last)",
        "\u001b[1;32m<ipython-input-15-51285ac9133b>\u001b[0m in \u001b[0;36m<module>\u001b[1;34m()\u001b[0m\n\u001b[0;32m      1\u001b[0m \u001b[0mremoteApp\u001b[0m\u001b[1;33m.\u001b[0m\u001b[0mDebugMode\u001b[0m \u001b[1;33m=\u001b[0m \u001b[0mFalse\u001b[0m\u001b[1;33m\u001b[0m\u001b[0m\n\u001b[1;32m----> 2\u001b[1;33m \u001b[0mcurrentoptions\u001b[0m \u001b[1;33m=\u001b[0m \u001b[0mremoteApp\u001b[0m\u001b[1;33m.\u001b[0m\u001b[0mGetCurrentOptions\u001b[0m\u001b[1;33m(\u001b[0m\u001b[1;33m)\u001b[0m\u001b[1;33m\u001b[0m\u001b[0m\n\u001b[0m",
        "\u001b[1;31mTypeError\u001b[0m: No method matches given arguments"
       ]
      }
     ],
     "prompt_number": 15
    },
    {
     "cell_type": "code",
     "collapsed": false,
     "input": [
      "currentoptions = remoteApp.GetCurrentOptions(\"ConfigsInfo\")\n",
      "for currentoption in currentoptions:\n",
      "    print currentoption"
     ],
     "language": "python",
     "metadata": {},
     "outputs": [
      {
       "output_type": "stream",
       "stream": "stdout",
       "text": [
        "GUI Location=Confgure Label=ProbeHead Check Variable=EnableProbeHeadCheck Values=1.0,0.0 Description=When ProbeHead check is enabled, the input signal's probe head configuration is verified. This is only done when performing DualPort Testing in Gen2 System Board Test.\n",
        "GUI Location=Confgure Label=Signal Check Variable=EnableSignalCheck Values=1.0,0.0 Description=When signal check is enabled, the input signal is pre-tested and verified to be within a reasonable range of timing and voltage limits. This can be useful for detecting problems like cabling errors before a test is run.\n",
        "GUI Location=Confgure Label=S-Parameter for Add-in Card Variable=AddInSParamFilePath Values=(Accepts user-defined text) Description=Stores the s-parameter file path for Add-in card tests.\n",
        "GUI Location=Confgure Label=S-Parameter for System Board Variable=SystemSParamFilePath Values=(Accepts user-defined text) Description=Stores the s-parameter file path for System board tests.\n",
        "GUI Location=Confgure Label=Deembed Fixture (dB) Variable=Deembed Values=(Accepts user-defined text),0.0,-0.50,-1.00,-1.50 Description=Identify the amount of fixture and cable loss in dB. Probe external scaling will be set to compensate. Maximum compensation value is -60dB.\n",
        "GUI Location=Confgure Label=Noise Reduction BW, GHz Variable=EBW Values=0.0,13.0E+9,12.0E+9,10.0E+9,8.0E+9,7.0E+9,6.0E+9,5.0E+9,4.0E+9,3.0E+9,2.0E+9,1.0E+9 Description=(Limited availability)Specify the noise reduction bandwidth to use for all tests.\n",
        "GUI Location=Confgure Label=Sample Rate, GSa/s Variable=SRate_Gen2 Values=80.0E+9,40.0E+9,20.0E+9,10.0E+9 Description=(Limited availability)Specify the sample rate to use for all PCIE 2.0 (5.0 GT/s) tests or PCIE 3.0 (8.0 GT/s) tests.\n",
        "GUI Location=Confgure Label=Sample Rate, GSa/s Variable=SRate Values=80.0E+9,40.0E+9,20.0E+9,10.0E+9,5.0E+9 Description=(Limited availability)Specify the sample rate to use for all PCIE 1.0a, PCIE 1.1 , PCIe 2.0 (2.5 GT/s) and Express Card 1.0 tests.\n",
        "GUI Location=Confgure Label=Number of UI Variable=NumUIGen2Test Values=(Accepts user-defined text),1.6E+6,1.0E+6,500.0E+3,250.0E+3,100.0E+3,50.0E+3 Description=This is the minimum number of unit intervals used in the Eye-Width, TJ at BER-12, Maximum DJ , RMS RJ  and Template tests. These measurements should be made using the compliance pattern at a sample size of at least 1E+6 (1,000,000) UI as specified in the PCI Express CEM Specification Rev. 2.0. Specifying a greater number of UI will increase the test time and accuracy of the tests.\n",
        "GUI Location=Confgure Label=Number of UI Variable=NumUIGen1Test Values=(Accepts user-defined text),1.6E+6,1.0E+6,500.0E+3,250.0E+3,100.0E+3,50.0E+3 Description=This is the minimum number of unit intervals used in the Eye-Width, TJ at BER-12, Maximum DJ , RMS RJ  and Template tests. These measurements should be made using the compliance pattern at a sample size of at least 1E+6 (1,000,000) UI as specified in the PCI Express CEM Specification Rev. 2.0. Specifying a greater number of UI will increase the test time and accuracy of the tests.\n",
        "GUI Location=Confgure Label=Connection Type Variable=TxConnectionType Values=1,2,3,4,5,6,7,8 Description=Identifies the channels to process. For Direct Connect, connect the first channel to the + signal and the second channel to the - signal.\n",
        "GUI Location=Confgure Label=Connection Type Variable=RxConnectionType Values=1,2,3,4,5,6 Description=Identifies the channels to process. For Direct Connect, connect the first channel to the + signal and the second channel to the - signal.\n",
        "GUI Location=Confgure Label=Connection Type Variable=AddinTxConnectionType Values=1,2,3,4,5,6,7,8 Description=Identifies the channels to process. For Direct Connect, connect the first channel to the + signal and the second channel to the - signal.\n",
        "GUI Location=Confgure Label=Connection Type Variable=Gen3RxConnectionType Values=1,2,3,4,5,6 Description=Identifies the channels to process. For Direct Connect, connect the first channel to the + signal and the second channel to the - signal.\n",
        "GUI Location=Confgure Label=Connection Type Variable=Gen2SystemTxConnectionType Values=11,12,13,14 Description=(Limited availability)Identifies the channels to process.\n",
        "GUI Location=Confgure Label=Connection Type Variable=SystemTxConnectionType Values=1,2,3,4,5,6,7,8 Description=Identifies the channels to process. For Direct Connect, connect the first channel to the + signal and the second channel to the - signal.\n",
        "GUI Location=Confgure Label=Connection Type Variable=RefClkConnectionType Values=1,2,3,4,5,6,7,8 Description=Identifies the channels to process. For Direct Connect, connect the first channel to the + signal and the second channel to the - signal.\n",
        "GUI Location=Confgure Label=Connection Type Variable=ECModuleTxConnectionType Values=1,2,3,4,5,6,7,8 Description=Identifies the channels to process. For Direct Connect, connect the first channel to the + signal and the second channel to the - signal.\n",
        "GUI Location=Confgure Label=Connection Type Variable=ECHostTxConnectionType Values=1,2,3,4,5,6,7,8 Description=Identifies the channels to process. For Direct Connect, connect the first channel to the + signal and the second channel to the - signal.\n",
        "GUI Location=Confgure Label=Differential waveform file name Variable=DiffWfmFile Values=(Accepts user-defined text),None Description=This variable use to store the directory of the differential data waveform file.\n",
        "GUI Location=Confgure Label=Single ended positive waveform file name Variable=DPWfmFile Values=(Accepts user-defined text),None Description=This variable use to store the directory of the single ended positive data waveform file.\n",
        "GUI Location=Confgure Label=Single ended negative waveform file name Variable=DNWfmFile Values=(Accepts user-defined text),None Description=This variable use to store the directory of the single ended negative data waveform file.\n",
        "GUI Location=Confgure Label=Differential clock waveform file name Variable=DiffClkWfmFile Values=(Accepts user-defined text),None Description=This variable use to store the directory of the differential clock waveform file.\n",
        "GUI Location=Confgure Label=Single ended positive clock waveform file name Variable=ClkDPWfmFile Values=(Accepts user-defined text),None Description=This variable use to store the directory of the single ended positive clock waveform file.\n",
        "GUI Location=Confgure Label=Single ended negative clock waveform file name Variable=ClkDNWfmFile Values=(Accepts user-defined text),None Description=This variable use to store the directory of the single ended negative clock waveform file.\n",
        "GUI Location=Confgure Label=Single ended negative clock waveform file name Variable=OfflineInput Values=(Accepts user-defined text),None Description=This variable use to store the type of offline waveform, \"SingleEnded\" or \"Differential\".\n",
        "GUI Location=Confgure Label=Transition Time Threshold Variable=TransitionTimeThreshold Values=Fixed,Variable Description=Select the threshold method used to measure transition time.Fixed method applied the same threshold for all edges. Variable method applied threshold based on the previous and the next unit interval.\n",
        "GUI Location=Confgure Label=Num Clock UI Variable=NumClockUI Values=(Accepts user-defined text),1000000,500000,100000,50000 Description=This is the number of clock unit intervals processed when calculating clock jitter. For compliance testing, this measurement requires 1,000,000 UI to guarantee the proper bit error rate (10E-6 BER) as specified in the PCI Express Base Specification Rev.  1.1. The allowed values for this control are between 1000 and 3,000,000 UIs.\n",
        "GUI Location=Confgure Label=Sample rate, GSa/s Variable=ClockSR Values=80.0E+9,40.0E+9,20.0E+9,10.0E+9,5.0E+9,2.0E+9,1.0E+9 Description=Select the sample rate to acquire reference clock signal.\n",
        "GUI Location=Confgure Label=Gen 2 Ref Clock Transfer Function (Common Clock) Variable=Gen2CommonRefClkTF Values=H1: 5MHz, 1.0dB peaking | H2: 16MHz, 3.0dB peaking,H1: 8MHz, 3.0dB peaking | H2: 16MHz, 3.0dB peaking Description=Select the transfer function for Gen 2 reference clock signal.\n",
        "GUI Location=Confgure Label=Gen 3 Ref Clock Transfer Function (Common Clock) Variable=Gen3CommonRefClkTF Values=H1: 2MHz, 0.01dB peaking | H2: 2MHz, 0.01dB peaking,H1: 2MHz, 0.01dB peaking | H2: 2MHz, 1.0dB peaking,H1: 2MHz, 0.01dB peaking | H2: 5MHz, 0.01dB peaking,H1: 2MHz, 0.01dB peaking | H2: 5MHz, 1.0dB peaking,H1: 2MHz, 2.0dB peaking | H2: 2MHz, 0.01dB peaking,H1: 2MHz, 2.0dB peaking | H2: 2MHz, 1.0dB peaking,H1: 2MHz, 2.0dB peaking | H2: 5MHz, 0.01dB peaking,H1: 2MHz, 2.0dB peaking | H2: 5MHz, 1.0dB peaking,H1: 4MHz, 0.01dB peaking | H2: 2MHz, 0.01dB peaking,H1: 4MHz, 0.01dB peaking | H2: 2MHz, 1.0dB peaking,H1: 4MHz, 0.01dB peaking | H2: 5MHz, 0.01dB peaking,H1: 4MHz, 0.01dB peaking | H2: 5MHz, 1.0dB peaking,H1: 4MHz, 2.0dB peaking | H2: 2MHz, 0.01dB peaking,H1: 4MHz, 2.0dB peaking | H2: 2MHz, 1.0dB peaking,H1: 4MHz, 2.0dB peaking | H2: 5MHz, 0.01dB peaking,H1: 4MHz, 2.0dB peaking | H2: 5MHz, 1.0dB peaking Description=Select the transfer function for Gen 3 reference clock signal.\n",
        "GUI Location=Confgure Label=Gen 3 Ref Clock Transfer Function (Data Clock) Variable=Gen3DataRefClkTF Values=H1: 2MHz, 0.01dB peaking | H2: 10MHz, 0.5dB peaking,H1: 2MHz, 1.0dB peaking | H2: 10MHz, 0.5dB peaking,H1: 2MHz, 2.0dB peaking | H2: 10MHz, 0.5dB peaking,H1: 2MHz, 0.01dB peaking | H2: 10MHz, 2.0dB peaking,H1: 2MHz, 1.0dB peaking | H2: 10MHz, 2.0dB peaking,H1: 2MHz, 2.0dB peaking | H2: 10MHz, 2.0dB peaking,H1: 4MHz, 0.01dB peaking | H2: 10MHz, 0.5dB peaking,H1: 4MHz, 0.01dB peaking | H2: 10MHz, 2.0dB peaking,H1: 4MHz, 2.0dB peaking | H2: 10MHz, 0.5dB peaking,H1: 4MHz, 2.0dB peaking | H2: 10MHz, 2.0dB peaking,H1: 5MHz, 0.01dB peaking | H2: 10MHz, 0.5dB peaking,H1: 5MHz, 0.01dB peaking | H2: 10MHz, 2.0dB peaking,H1: 5MHz, 1.0dB peaking | H2: 10MHz, 0.5dB peaking,H1: 5MHz, 1.0dB peaking | H2: 10MHz, 2.0dB peaking Description=Select the transfer function for Gen 3 reference clock signal.\n",
        "GUI Location=Confgure Label=Stitch Method Variable=StitchMethod Values=Absolute,Dynamic Description=Select the method to stitch the waveform for reference clock phase jitter test. Absolute method stitches the waveform based on absolute data. Dynamic method aligns waveform data to have common offset before stitching. This option only applies when Spread Sprectrum Clocking is enabled.\n",
        "GUI Location=Confgure Label=Show Jitter Filter Plot Variable=ShowJitterFilterPlot Values=0,2,3,4,5 Description=Select the clock jitter plot to display. Generating plots will increase test runtime.\n",
        "GUI Location=Confgure Label=Output Filename Variable=RefClkOutputCSVFilename Values=(Accepts user-defined text),None,Auto Description=Output Filename.\n",
        "GUI Location=Confgure Label=De-Emphasis Removal Variable=EnableDeEmpRemoval Values=1.0,0.0 Description=Enable or Disable De-Emphasis Removal feature for the jitter and eye width measurement of the transmitter test.\n",
        "GUI Location=Confgure Label=Rise/Fall Time Measurement Count  Variable=RiseFallCount Values=10.0E+3,5.0E+3,2.0E+3,1.0E+3,500.0E+0,200.0E+0 Description=Select the minimum measurement count for each rise time and fall time for the Rise/Fal time measurement with variable threshold.\n",
        "GUI Location=Confgure Label=RJ Bandwidth Variable=RJBW Values=NARR,WIDE Description=Select the RJ bandwidth.\n",
        "GUI Location=Confgure Label=Trigger Pulse Width, s Variable=TrigPulseWidth Values=8.0E-9,7.0E-9,6.0E-9,5.0E-9 Description=(Limited availability)Specify the width in second for the Pulse Width Trigger setup.\n",
        "GUI Location=Confgure Label=Clock Recovery Delta Time Variable=ClockRecoveryDeltaTime Values=Fixed,Variable Description=Select the clock recovery delta time from compliance pattern of 64 zeroes and 64 ones\n",
        "GUI Location=Confgure Label=Sine(x)/x Interpolation Variable=SineXInterpolation Values=ON,OFF,INT1,INT2,INT4,INT8 Description=Sine(x)/x Interpolation.\n",
        "GUI Location=Set Up Label=User Comments Variable=txtUserComment Values=(Accepts user-defined text) Description=Optional user comments displayed in the test report. \n",
        "GUI Location=Set Up Label=Lane0 Variable=Lane0 Values=0.0,1.0 Description=Select tests performed at the transmitter package pins. \n",
        "GUI Location=Set Up Label=Lane1 Variable=Lane1 Values=0.0,1.0 Description=Select tests performed at the transmitter package pins. \n",
        "GUI Location=Set Up Label=Lane2 Variable=Lane2 Values=0.0,1.0 Description=Select tests performed at the transmitter package pins. \n",
        "GUI Location=Set Up Label=Lane3 Variable=Lane3 Values=0.0,1.0 Description=Select tests performed at the transmitter package pins. \n",
        "GUI Location=Set Up Label=Lane4 Variable=Lane4 Values=0.0,1.0 Description=Select tests performed at the transmitter package pins. \n",
        "GUI Location=Set Up Label=Lane5 Variable=Lane5 Values=0.0,1.0 Description=Select tests performed at the transmitter package pins. \n",
        "GUI Location=Set Up Label=Lane6 Variable=Lane6 Values=0.0,1.0 Description=Select tests performed at the transmitter package pins. \n",
        "GUI Location=Set Up Label=Lane7 Variable=Lane7 Values=0.0,1.0 Description=Select tests performed at the transmitter package pins. \n",
        "GUI Location=Set Up Label=Lane8 Variable=Lane8 Values=0.0,1.0 Description=Select tests performed at the transmitter package pins. \n",
        "GUI Location=Set Up Label=Lane9 Variable=Lane9 Values=0.0,1.0 Description=Select tests performed at the transmitter package pins. \n",
        "GUI Location=Set Up Label=Lane10 Variable=Lane10 Values=0.0,1.0 Description=Select tests performed at the transmitter package pins. \n",
        "GUI Location=Set Up Label=Lane11 Variable=Lane11 Values=0.0,1.0 Description=Select tests performed at the transmitter package pins. \n",
        "GUI Location=Set Up Label=Lane12 Variable=Lane12 Values=0.0,1.0 Description=Select tests performed at the transmitter package pins. \n",
        "GUI Location=Set Up Label=Lane13 Variable=Lane13 Values=0.0,1.0 Description=Select tests performed at the transmitter package pins. \n",
        "GUI Location=Set Up Label=Lane14 Variable=Lane14 Values=0.0,1.0 Description=Select tests performed at the transmitter package pins. \n",
        "GUI Location=Set Up Label=Lane15 Variable=Lane15 Values=0.0,1.0 Description=Select tests performed at the transmitter package pins. \n",
        "GUI Location=Set Up Label=Embed Enable Checkbox Variable=OfflineEnable Values=0.0,1.0 Description=Select tests peformed at the reference clock interface. \n",
        "GUI Location=Set Up Label=Device Variable=DevicePCIErev Values=PCIE 1.0a,PCIE 1.1,PCIE 2.0,PCIE 3.0,Express Card 1.0 Description=Select the PCI Express device specification to use. \n",
        "GUI Location=Set Up Label=Device ID Variable=txtDeviceID Values=(Accepts user-defined text) Description=Optional user defined device ID displayed in the test report. \n",
        "GUI Location=Set Up Label=cmbPresetType Variable=cmbPresetType Values=(Accepts user-defined text),None,P0,P1,P2,P3,P5,P6,P7,P8,P9,P10 Description=Connection Type \n",
        "GUI Location=Set Up Label=Data Rate Variable=DataRateOpt Values=2.5 GT/s,5.0 GT/s,8.0 GT/s Description=Select data rate option for PCIE Gen2 test signal. \n",
        "GUI Location=Set Up Label=Power Level Variable=PowerLevel Values=Full,Half Description=Select the PCI Express device Power Level to use. \n",
        "GUI Location=Set Up Label=De-Emphasis Mode Variable=DeEmpOpt Values=-3.5 dB,-6.0 dB,None Description=Select de-emphasis level for PCIE Gen2 test signal. \n",
        "GUI Location=Set Up Label=Clean Clock Variable=persistentCheckBox_Clean Values=0.0,1.0 Description=Indicate whether a Clean Clock is used. \n",
        "GUI Location=Set Up Label=SSC Variable=persistentCheckBox_SSC Values=0.0,1.0 Description=Indicate whether Spread Spectrum Clock is used. \n",
        "GUI Location=Set Up Label=System Board Tests Variable=TestPoint_SystemBoard Values=0.0,1.0 Description=Select tests peformed at the add-in card interface on the system board transmitter path. \n",
        "GUI Location=Set Up Label=RefClk Tests Variable=TestPoint_RefClk Values=0.0,1.0 Description=Select tests peformed at the reference clock interface. \n",
        "GUI Location=Set Up Label=Add-in Card Tests Variable=TestPoint_AddInCard Values=0.0,1.0 Description=Select tests peformed at the add-in card interface on the add-in card transmitter path. \n",
        "GUI Location=Set Up Label=Receiver Tests Variable=TestPoint_Receiver Values=0.0,1.0 Description=Select tests peformed at the receiver. \n",
        "GUI Location=Set Up Label=Express Card Host Variable=TestPoint_ExpressCardHost Values=0.0,1.0 Description=Select tests peformed on Express Card Hosts. \n",
        "GUI Location=Set Up Label=Transmitter Tests Variable=TestPoint_Transmitter Values=0.0,1.0 Description=Select tests performed at the transmitter package pins. \n",
        "GUI Location=Set Up Label=Express Card Module Variable=TestPoint_ExpressCardModule Values=0.0,1.0 Description=Select tests peformed on Express Card Modules. \n",
        "GUI Location=Set Up Label=Preset Tests For Gen 3 Variable=TestPoint_Calibration Values=0.0,1.0 Description=Select tests peformed at the reference clock interface. \n",
        "GUI Location=Run Tests Label=RunEvent=Margin < N: Minimum required margin % Variable=RunEvent_Margin < N_MinPercent Values=Any integer in range: 0 <= value <= 100 Description=Specify N using the 'Minimum required margin %' control.\n",
        "GUI Location=Run Tests Label=Event Variable=RunEvent Values=(None),Fail,Margin < N,Pass Description=Names of events that can be used with the StoreMode=Event or RunUntil RunEventAction options\n"
       ]
      }
     ],
     "prompt_number": 16
    },
    {
     "cell_type": "code",
     "collapsed": false,
     "input": [
      "TestInfo = remoteApp.GetCurrentOptions(\"TestsInfo\")"
     ],
     "language": "python",
     "metadata": {},
     "outputs": [],
     "prompt_number": 12
    },
    {
     "cell_type": "code",
     "collapsed": false,
     "input": [
      "for test in TestInfo:\n",
      "    print test.Name"
     ],
     "language": "python",
     "metadata": {},
     "outputs": [
      {
       "output_type": "stream",
       "stream": "stdout",
       "text": [
        "tjit(CC) Rising Edge Measurements\n",
        "tCK(avg) Rising Edge Measurements\n",
        "tjit(per) Rising Edge Measurements\n",
        "terr(2per) Rising Edge Measurements\n",
        "terr(3per) Rising Edge Measurements\n",
        "terr(4per) Rising Edge Measurements\n",
        "terr(5per) Rising Edge Measurements\n",
        "terr(6per) Rising Edge Measurements\n",
        "terr(7per) Rising Edge Measurements\n",
        "terr(8per) Rising Edge Measurements\n",
        "terr(9per) Rising Edge Measurements\n",
        "terr(10per) Rising Edge Measurements\n",
        "terr(11per) Rising Edge Measurements\n",
        "terr(12per) Rising Edge Measurements\n",
        "tCH Average High Measurements\n",
        "tCL Average Low Measurements\n",
        "tjit(duty-high) Jitter Average High Measurements\n",
        "tjit(duty-low) Jitter Average Low Measurements\n",
        "terr(nper) Rising Edge Measurements\n",
        "Overshoot amplitude (Address, Control)\n",
        "Overshoot area (Address, Control)\n",
        "Overshoot amplitude (Data, Strobe, Mask)\n",
        "Overshoot area (Data, Strobe, Mask)\n",
        "Overshoot amplitude (Clock)\n",
        "Overshoot area (Clock)\n",
        "Undershoot amplitude (Address, Control)\n",
        "Undershoot area (Address, Control)\n",
        "Undershoot amplitude (Data, Strobe, Mask)\n",
        "Undershoot area (Data, Strobe, Mask)\n",
        "Undershoot amplitude (Clock)\n",
        "Undershoot area (Clock)\n",
        "VOH(AC)\n",
        "VOH(DC)\n",
        "VOL(AC)\n",
        "VOL(DC)\n",
        "SRQseR\n",
        "SRQseF\n",
        "VSEH(Strobe)\n",
        "VSEL(Strobe)\n",
        "VSEH(Clock)\n",
        "VSEL(Clock)\n",
        "VIHdiff.CK(AC)\n",
        "VILdiff.CK(AC)\n",
        "VIHdiff.DQS(AC)\n",
        "VILdiff.DQS(AC)\n",
        "VIHdiff.CK(DC)\n",
        "VILdiff.CK(DC)\n",
        "VIHdiff.DQS(DC)\n",
        "VILdiff.DQS(DC)\n",
        "VOHdiff(AC)\n",
        "VOLdiff(AC)\n",
        "SRQdiffR\n",
        "SRQdiffF\n",
        "VIX(CK)\n",
        "tDQSCK\n",
        "tQSH\n",
        "tQSL\n",
        "tDQSQ\n",
        "tHZDQ\n",
        "tLZDQ\n",
        "tLZDQS\n",
        "tHZDQS\n",
        "tQH\n",
        "tRPRE\n",
        "tRPST\n",
        "tWPRE\n",
        "tWPST\n",
        "tDVAC(Clock)\n",
        "tDVAC(Strobe)\n",
        "tCKE\n",
        "tDIVW Margin\n",
        "vDIVW Margin\n",
        "DummyTestToShowDQSDQPhaseConfig1\n"
       ]
      }
     ],
     "prompt_number": 14
    },
    {
     "cell_type": "code",
     "collapsed": false,
     "input": [
      "testIDs = []\n",
      "for test in testsinfos:\n",
      "    testIDs.append(test.ID)\n",
      "print testIDs\n",
      "remoteApp.SelectedTests = testIDs"
     ],
     "language": "python",
     "metadata": {},
     "outputs": [
      {
       "output_type": "stream",
       "stream": "stdout",
       "text": [
        "[2100, 2114, 2134, 2144, 2150, 2162, 2180, 2184, 2192, 2194]\n"
       ]
      }
     ],
     "prompt_number": 7
    },
    {
     "cell_type": "code",
     "collapsed": false,
     "input": [
      "for config in configsinfos:\n",
      "    print config.Label, config.DebugOnly"
     ],
     "language": "python",
     "metadata": {},
     "outputs": [
      {
       "output_type": "stream",
       "stream": "stdout",
       "text": [
        "ProbeHead Check True\n",
        "Signal Check False\n",
        "S-Parameter for Add-in Card False\n",
        "S-Parameter for System Board False\n",
        "Deembed Fixture (dB) False\n",
        "Noise Reduction BW, GHz False\n",
        "Sample Rate, GSa/s False\n",
        "Sample Rate, GSa/s False\n",
        "Number of UI False\n",
        "Number of UI False\n",
        "Connection Type False\n",
        "Connection Type False\n",
        "Connection Type False\n",
        "Connection Type False\n",
        "Connection Type False\n",
        "Connection Type False\n",
        "Connection Type False\n",
        "Connection Type False\n",
        "Connection Type False\n",
        "Differential waveform file name False\n",
        "Single ended positive waveform file name False\n",
        "Single ended negative waveform file name False\n",
        "Differential clock waveform file name False\n",
        "Single ended positive clock waveform file name False\n",
        "Single ended negative clock waveform file name False\n",
        "Single ended negative clock waveform file name False\n",
        "Transition Time Threshold False\n",
        "Num Clock UI False\n",
        "Sample rate, GSa/s False\n",
        "Gen 2 Ref Clock Transfer Function (Common Clock) False\n",
        "Gen 3 Ref Clock Transfer Function (Common Clock) False\n",
        "Gen 3 Ref Clock Transfer Function (Data Clock) False\n",
        "Stitch Method False\n",
        "Show Jitter Filter Plot False\n",
        "Output Filename True\n",
        "De-Emphasis Removal False\n",
        "Rise/Fall Time Measurement Count  True\n",
        "RJ Bandwidth False\n",
        "Trigger Pulse Width, s True\n",
        "Clock Recovery Delta Time True\n",
        "Sine(x)/x Interpolation False\n",
        "User Comments False\n",
        "Lane0 False\n",
        "Lane1 False\n",
        "Lane2 False\n",
        "Lane3 False\n",
        "Lane4 False\n",
        "Lane5 False\n",
        "Lane6 False\n",
        "Lane7 False\n",
        "Lane8 False\n",
        "Lane9 False\n",
        "Lane10 False\n",
        "Lane11 False\n",
        "Lane12 False\n",
        "Lane13 False\n",
        "Lane14 False\n",
        "Lane15 False\n",
        "Embed Enable Checkbox False\n",
        "Device False\n",
        "Device ID False\n",
        "cmbPresetType False\n",
        "Data Rate False\n",
        "Power Level False\n",
        "De-Emphasis Mode False\n",
        "Clean Clock False\n",
        "SSC False\n",
        "System Board Tests False\n",
        "RefClk Tests False\n",
        "Add-in Card Tests False\n",
        "Receiver Tests False\n",
        "Express Card Host False\n",
        "Transmitter Tests False\n",
        "Express Card Module False\n",
        "Preset Tests For Gen 3 False\n",
        "RunEvent=Margin < N: Minimum required margin % False\n",
        "Event False\n"
       ]
      }
     ],
     "prompt_number": 26
    },
    {
     "cell_type": "code",
     "collapsed": false,
     "input": [],
     "language": "python",
     "metadata": {},
     "outputs": []
    }
   ],
   "metadata": {}
  }
 ]
}