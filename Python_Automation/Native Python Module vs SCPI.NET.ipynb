{
 "metadata": {
  "name": ""
 },
 "nbformat": 3,
 "nbformat_minor": 0,
 "worksheets": [
  {
   "cells": [
    {
     "cell_type": "markdown",
     "metadata": {},
     "source": [
      "1. Simple scpi using PyVisa"
     ]
    },
    {
     "cell_type": "code",
     "collapsed": false,
     "input": [
      "import visa\n",
      "scope = visa.instrument(\"TCPIP0::130.30.240.155::inst0::INSTR\")\n",
      "scope.ask(\"*idn?\")"
     ],
     "language": "python",
     "metadata": {},
     "outputs": [
      {
       "metadata": {},
       "output_type": "pyout",
       "prompt_number": 1,
       "text": [
        "'Agilent Technologies,MSOX93204A,MY53240105,04.60.0016'"
       ]
      }
     ],
     "prompt_number": 1
    },
    {
     "cell_type": "markdown",
     "metadata": {},
     "source": [
      "2. Using SCPI.NET dll from Command Expert\n",
      "(Assumes Python for .NET dll's & spci.net dll copied into Python dirs)"
     ]
    },
    {
     "cell_type": "code",
     "collapsed": false,
     "input": [
      "import clr\n",
      "clr.AddReference(\"AgInfiniium90000_04_00_0004\")\n",
      "from Agilent.CommandExpert.ScpiNet.AgInfiniium90000_04_00_0004 import *\n",
      "scope = AgInfiniium90000(\"TCPIP0::localhost::inst0::INSTR\")\n",
      "idn = \"\"\n",
      "idn = scope.SCPI.IDN.Query(idn)"
     ],
     "language": "python",
     "metadata": {},
     "outputs": [
      {
       "ename": "CommunicationException",
       "evalue": "A VISA COM error occurred (HRESULT = 80040000)\n   at Agilent.CommandExpert.Scpi.Connections.VisaScpiConnection.a(COMException A_0)\r\n   at Agilent.CommandExpert.Scpi.Connections.VisaScpiConnection.OpenConnectionInternal()\r\n   at Agilent.CommandExpert.Scpi.Connections.BaseScpiConnection.OpenConnection(ScpiExecution parent)\r\n   at Agilent.CommandExpert.Scpi.ScpiExecution.Connect()\r\n   at Agilent.CommandExpert.ScpiNet.AgInfiniium90000_04_00_0004.AgInfiniium90000.Initialize(ISource rh)\r\n   at Agilent.CommandExpert.ScpiNet.AgInfiniium90000_04_00_0004.AgInfiniium90000..ctor(String location, Int32 timeout)\r\n   at Agilent.CommandExpert.ScpiNet.AgInfiniium90000_04_00_0004.AgInfiniium90000..ctor(String location)",
       "output_type": "pyerr",
       "traceback": [
        "\u001b[1;31m---------------------------------------------------------------------------\u001b[0m\n\u001b[1;31mCommunicationException\u001b[0m                    Traceback (most recent call last)",
        "\u001b[1;32m<ipython-input-1-285435e77dea>\u001b[0m in \u001b[0;36m<module>\u001b[1;34m()\u001b[0m\n\u001b[0;32m      2\u001b[0m \u001b[0mclr\u001b[0m\u001b[1;33m.\u001b[0m\u001b[0mAddReference\u001b[0m\u001b[1;33m(\u001b[0m\u001b[1;34m\"AgInfiniium90000_04_00_0004\"\u001b[0m\u001b[1;33m)\u001b[0m\u001b[1;33m\u001b[0m\u001b[0m\n\u001b[0;32m      3\u001b[0m \u001b[1;32mfrom\u001b[0m \u001b[0mAgilent\u001b[0m\u001b[1;33m.\u001b[0m\u001b[0mCommandExpert\u001b[0m\u001b[1;33m.\u001b[0m\u001b[0mScpiNet\u001b[0m\u001b[1;33m.\u001b[0m\u001b[0mAgInfiniium90000_04_00_0004\u001b[0m \u001b[1;32mimport\u001b[0m \u001b[1;33m*\u001b[0m\u001b[1;33m\u001b[0m\u001b[0m\n\u001b[1;32m----> 4\u001b[1;33m \u001b[0mscope\u001b[0m \u001b[1;33m=\u001b[0m \u001b[0mAgInfiniium90000\u001b[0m\u001b[1;33m(\u001b[0m\u001b[1;34m\"TCPIP0::localhost::inst0::INSTR\"\u001b[0m\u001b[1;33m)\u001b[0m\u001b[1;33m\u001b[0m\u001b[0m\n\u001b[0m\u001b[0;32m      5\u001b[0m \u001b[0midn\u001b[0m \u001b[1;33m=\u001b[0m \u001b[1;34m\"\"\u001b[0m\u001b[1;33m\u001b[0m\u001b[0m\n\u001b[0;32m      6\u001b[0m \u001b[0midn\u001b[0m \u001b[1;33m=\u001b[0m \u001b[0mscope\u001b[0m\u001b[1;33m.\u001b[0m\u001b[0mSCPI\u001b[0m\u001b[1;33m.\u001b[0m\u001b[0mIDN\u001b[0m\u001b[1;33m.\u001b[0m\u001b[0mQuery\u001b[0m\u001b[1;33m(\u001b[0m\u001b[0midn\u001b[0m\u001b[1;33m)\u001b[0m\u001b[1;33m\u001b[0m\u001b[0m\n",
        "\u001b[1;31mCommunicationException\u001b[0m: A VISA COM error occurred (HRESULT = 80040000)\n   at Agilent.CommandExpert.Scpi.Connections.VisaScpiConnection.a(COMException A_0)\r\n   at Agilent.CommandExpert.Scpi.Connections.VisaScpiConnection.OpenConnectionInternal()\r\n   at Agilent.CommandExpert.Scpi.Connections.BaseScpiConnection.OpenConnection(ScpiExecution parent)\r\n   at Agilent.CommandExpert.Scpi.ScpiExecution.Connect()\r\n   at Agilent.CommandExpert.ScpiNet.AgInfiniium90000_04_00_0004.AgInfiniium90000.Initialize(ISource rh)\r\n   at Agilent.CommandExpert.ScpiNet.AgInfiniium90000_04_00_0004.AgInfiniium90000..ctor(String location, Int32 timeout)\r\n   at Agilent.CommandExpert.ScpiNet.AgInfiniium90000_04_00_0004.AgInfiniium90000..ctor(String location)"
       ]
      }
     ],
     "prompt_number": 1
    },
    {
     "cell_type": "code",
     "collapsed": false,
     "input": [
      "scope.SCPI.IDN."
     ],
     "language": "python",
     "metadata": {},
     "outputs": [
      {
       "metadata": {},
       "output_type": "pyout",
       "prompt_number": 4,
       "text": [
        "u'Agilent Technologies,N8900A,No Serial,04.99.201402240'"
       ]
      }
     ],
     "prompt_number": 4
    },
    {
     "cell_type": "markdown",
     "metadata": {},
     "source": [
      "3. Test DocStringAttribute in .NET dll"
     ]
    },
    {
     "cell_type": "code",
     "collapsed": false,
     "input": [
      "import sys\n",
      "#sys.path.append(\"C:\\Users\\marnj\\Documents\\Visual Studio 2012\\Projects\\myDll\\myDll\\bin\\Debug\")\n",
      "import clr\n",
      "#clr.FindAssembly(\"myDll\")\n",
      "clr.AddReference(u\"C:\\\\Users\\\\marnj\\\\Documents\\\\Visual Studio 2012\\\\Projects\\\\myDll\\\\myDll\\\\bin\\\\Debug\\\\myDll\")\n",
      "from myDll import mycalc"
     ],
     "language": "python",
     "metadata": {},
     "outputs": [],
     "prompt_number": 1
    },
    {
     "cell_type": "code",
     "collapsed": false,
     "input": [
      "myinst = mycalc()"
     ],
     "language": "python",
     "metadata": {},
     "outputs": [],
     "prompt_number": 2
    },
    {
     "cell_type": "code",
     "collapsed": false,
     "input": [
      "myinst.Add("
     ],
     "language": "python",
     "metadata": {},
     "outputs": [],
     "prompt_number": 3
    },
    {
     "cell_type": "code",
     "collapsed": false,
     "input": [
      "myinst.__doc__"
     ],
     "language": "python",
     "metadata": {},
     "outputs": [
      {
       "metadata": {},
       "output_type": "pyout",
       "prompt_number": 7,
       "text": [
        "'Void .ctor()'"
       ]
      }
     ],
     "prompt_number": 7
    },
    {
     "cell_type": "code",
     "collapsed": false,
     "input": [],
     "language": "python",
     "metadata": {},
     "outputs": []
    }
   ],
   "metadata": {}
  }
 ]
}