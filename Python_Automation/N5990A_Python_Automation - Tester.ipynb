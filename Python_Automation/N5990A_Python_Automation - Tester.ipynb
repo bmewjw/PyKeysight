{
 "metadata": {
  "name": "",
  "signature": "sha256:2c3222331759e4eaa31afd36b4e32c7b52acffdc8d3aa56ab1ce760e932f0105"
 },
 "nbformat": 3,
 "nbformat_minor": 0,
 "worksheets": [
  {
   "cells": [
    {
     "cell_type": "markdown",
     "metadata": {},
     "source": [
      "<h3>The example code below illustrates how to handle events with N5990A Valiframe automation.\n",
      "<br>These examples suppress all windows dialog prompts and instead redirect messages to the Python prompt</h3>\n",
      "*For a more general overview of automation of Agilent Instruments using Python including N5990A ValiFrame [see here](Python_Automation.ipynb)*\n",
      "<br>\n",
      "<br>\n",
      "First we will make our imports and connections to the ValiFrame environment."
     ]
    },
    {
     "cell_type": "code",
     "collapsed": false,
     "input": [
      "import time\n",
      "import win32api\n",
      "import sys\n",
      "sys.path.append('C:\\\\Program Files (x86)\\\\BitifEye\\\\ValiFrame\\\\PCI-Express3') # Add the location of the Valiframe dll's to the system path\n",
      "import clr # Import the Common Runtime Library Python module\n",
      "\n",
      "clr.AddReference(\"ValiFrameRemote\") # Create a reference from CLR to the ValiFrameRemote DLL\n",
      "clr.AddReference(\"VFBase\") # Create a reference from CLR to the VFBase DLL\n",
      "clr.AddReference(\"VFSequence\") # Create a reference from CLR to the VFSequence DLL\n",
      "clr.AddReference(\"VFUserInterface\") # Create a reference from CLR to the VFUserInterface DLL\n",
      "\n",
      "from BitifEye.ValiFrame.ValiFrameRemote import * # Import the entire ValiFrameRemote namespace from the DLL\n",
      "from BitifEye.ValiFrame.Base import * # Import the entire Base namespace from the DLL\n",
      "from BitifEye.ValiFrame.Sequence import * # Import the entire Sequence namespace from the DLL\n",
      "from BitifEye.ValiFrame.UserInterface import * # Import the entire UserInterface namespace from the DLL\n",
      "from BitifEye.Controls import * # Import the entire Controls namespace from the DLL"
     ],
     "language": "python",
     "metadata": {},
     "outputs": [],
     "prompt_number": 1
    },
    {
     "cell_type": "markdown",
     "metadata": {},
     "source": [
      "Next we need to create functions to handle what happens when Valiframe creates an event.\n",
      "<br>In the example below we choose to handle events in the following way:\n",
      "<ul>\n",
      "    <li>**Log Events:** There are many events logged during procedure runs and it is undesirable to print these out or pause the program flow. We will simply ignore them using the **pass** statement.\n",
      "    <li>**All Other Events:** We use the **raw_input()** function to pause the program allowing messages to be printed to the interpreter. The user must hit enter to continue the program flow\n",
      "</ul>"
     ]
    },
    {
     "cell_type": "code",
     "collapsed": false,
     "input": [
      "def my_LogChanged(logentry):\n",
      "    pass\n",
      "\n",
      "def my_StatusChanged(source,status):\n",
      "    print('Status Changed: ' + status)\n",
      "\n",
      "def my_ProcedureCompleted(procedure,xmlresult):\n",
      "    raw_input('Procedure Completed: ' + procedure + ' ' + xmlresult)\n",
      "\n",
      "def my_DialogPopUp(source, args):\n",
      "    #args.Dialog.ShowDialog()  #Uncomment to show Valiframe dialog box for all cases\n",
      "    msgbox = args.DialogText\n",
      "\n",
      "    # Definition for args.DialogType\n",
      "    #Member name           Value   Description \n",
      "    #Form                  0       General Form if the dialog is not one of the other dialog types  \n",
      "    #MessageBox            1       Standard Windows.Forms.MessageBox.  \n",
      "    #ConnectionDialog      2       Connection dialog. The dialog which pops up if a connection change is required.  \n",
      "    #UserInformationDialog 3       User Information Dialog, which contains a text and one button.  \n",
      "    #UserDecisionDialog    4       User Decision Dialog, which contains one text and 2 buttons.  \n",
      "    #InfoDialog            5       Info Dialog, which is the same as the UserInformationDialog (obsolete, will be removed in one of the next releases).  \n",
      "\n",
      "    if args.DialogType == 0:\n",
      "            raw_input('General Form Dialog: '+str(msgbox))\n",
      "            #  add actions here.....\n",
      "            #  args.Dialog.ShowDialog() #Uncomment to show dialog box for this case\n",
      "    elif args.DialogType == 1:\n",
      "            raw_input('Standard Windows.Forms.MessageBox: '+str(msgbox))\n",
      "            #  add actions here.....\n",
      "            #  args.Dialog.ShowDialog() #Uncomment to show dialog box for this case\n",
      "    elif args.DialogType == 2:\n",
      "            raw_input('Connection Dialog: '+str(msgbox))\n",
      "            #  add actions here.....\n",
      "            #  args.Dialog.ShowDialog() #Uncomment to show dialog box for this case\n",
      "    elif args.DialogType == 3:\n",
      "            raw_input('UserInformationDialog: '+str(msgbox))\n",
      "            #  add actions here.....\n",
      "            #  args.Dialog.ShowDialog() #Uncomment to show dialog box for this case\n",
      "    elif args.DialogType == 4:\n",
      "            raw_input('UserDecisionDialog: '+str(msgbox))\n",
      "            #  add actions here.....\n",
      "            #  args.Dialog.ShowDialog() #Uncomment to show dialog box for this case\n",
      "    elif args.DialogType == 5:\n",
      "            raw_input('InfoDialog: '+str(msgbox))\n",
      "            #  add actions here.....\n",
      "            #  args.Dialog.ShowDialog() #Uncomment to show dialog box for this case\n",
      "    else:\n",
      "            raw_input('Message not handled: '+str(msgbox))"
     ],
     "language": "python",
     "metadata": {},
     "outputs": [],
     "prompt_number": 2
    },
    {
     "cell_type": "markdown",
     "metadata": {},
     "source": [
      "Now we need to create an instance of the ValiFrameRemote object"
     ]
    },
    {
     "cell_type": "code",
     "collapsed": false,
     "input": [
      "my_vf_pcie = ValiFrameRemote() # Creates an instance of the ValiFrameRemote class"
     ],
     "language": "python",
     "metadata": {},
     "outputs": [],
     "prompt_number": 3
    },
    {
     "cell_type": "markdown",
     "metadata": {},
     "source": [
      "Next we need to register the event ValiFrame event handlers with the functions created above"
     ]
    },
    {
     "cell_type": "code",
     "collapsed": false,
     "input": [
      "#register event handlers\n",
      "my_vf_pcie.LogChanged += LogChangedEventHandler(my_LogChanged);\n",
      "my_vf_pcie.StatusChanged += StatusChangedEventHandler(my_StatusChanged);\n",
      "my_vf_pcie.ProcedureCompleted += ProcedureCompletedEventHandler(my_ProcedureCompleted);\n",
      "my_vf_pcie.DialogPopUp += DialogShowEventHandler(my_DialogPopUp);"
     ],
     "language": "python",
     "metadata": {},
     "outputs": [],
     "prompt_number": 4
    },
    {
     "cell_type": "markdown",
     "metadata": {},
     "source": [
      "Now we launch the application & load a config"
     ]
    },
    {
     "cell_type": "code",
     "collapsed": false,
     "input": [
      "my_vf_pcie.InitApplication(\"PciExpress3\") # Initialize the application\n",
      "my_vf_pcie.LoadProject(\"my_PCIe_proj.vfp\")"
     ],
     "language": "python",
     "metadata": {},
     "outputs": [],
     "prompt_number": 8
    },
    {
     "cell_type": "markdown",
     "metadata": {},
     "source": [
      "We can query the available tests & IDs."
     ]
    },
    {
     "cell_type": "code",
     "collapsed": false,
     "input": [
      "procedureIDs = procedureNames = [] # The variable names must be assigned to something but are overwritten in the next call\n",
      "_, procedureIDs, procedureNames = my_vf_pcie.GetProcedures(procedureIDs, procedureNames)\n",
      "procedureIDs = [int(id) for id in procedureIDs] # Convert to a python list of integers\n",
      "procedureNames = [str(name) for name in procedureNames] # Convert to a python list of strings\n",
      "procs = zip(procedureIDs, procedureNames) # Zip the id's & names together. A dictionary may also be a useful way to store these.\n",
      "for proc_id,proc_name in procs:\n",
      "    print proc_id, proc_name"
     ],
     "language": "python",
     "metadata": {},
     "outputs": [
      {
       "output_type": "stream",
       "stream": "stdout",
       "text": [
        "309629 Pre-Shoot Calibration\n",
        "309630 De-Emphasis Calibration\n",
        "309620 Equalization Preset Calibration\n",
        "309621 Equalization Custom Preset Calibration\n",
        "309622 Random Jitter Calibration\n",
        "309623 Sinusoidal Jitter Calibration\n",
        "309625 DM Sinusoidal Interference Calibration\n",
        "309626 Eye Height and Width Calibration\n",
        "309627 Compliance Eye Calibration\n",
        "328820 Preset Compliance Test\n",
        "328821 Compliance Test\n",
        "367260 Unit Interval \n",
        "367261 Template Tests \n",
        "367262 Eye-Width \n",
        "367263 Peak Differential Output Voltage \n"
       ]
      }
     ],
     "prompt_number": 9
    },
    {
     "cell_type": "code",
     "collapsed": false,
     "input": [
      "procs = [309629,309630]"
     ],
     "language": "python",
     "metadata": {},
     "outputs": [],
     "prompt_number": 91
    },
    {
     "cell_type": "code",
     "collapsed": false,
     "input": [
      "procs_list = System.Array.CreateInstance(Int32,2)"
     ],
     "language": "python",
     "metadata": {},
     "outputs": [],
     "prompt_number": 92
    },
    {
     "cell_type": "code",
     "collapsed": false,
     "input": [
      "i=0\n",
      "for proc in procs:\n",
      "    procs_list.SetValue(System.Int32(proc), i)\n",
      "    i+=1"
     ],
     "language": "python",
     "metadata": {},
     "outputs": [],
     "prompt_number": 93
    },
    {
     "cell_type": "code",
     "collapsed": false,
     "input": [
      "for proc in procs_list:\n",
      "    print proc"
     ],
     "language": "python",
     "metadata": {},
     "outputs": [
      {
       "output_type": "stream",
       "stream": "stdout",
       "text": [
        "309629\n",
        "309630\n"
       ]
      }
     ],
     "prompt_number": 94
    },
    {
     "cell_type": "code",
     "collapsed": false,
     "input": [
      "results = my_vf_pcie.RunProcedures(procs_list,\"ProcNames\")"
     ],
     "language": "python",
     "metadata": {},
     "outputs": [
      {
       "output_type": "stream",
       "stream": "stdout",
       "text": [
        "Status Changed: Start\n",
        "Status Changed: Procedure Pre-Shoot Calibration Init\n",
        "Status Changed: Procedure Pre-Shoot Calibration Start Iteration 0\n",
        "Status Changed: Procedure Pre-Shoot Calibration Step 0\n",
        "Status Changed: Procedure Pre-Shoot Calibration Step 1\n",
        "Status Changed: Procedure Pre-Shoot Calibration CleanUp\n",
        "Status Changed: Procedure Pre-Shoot Calibration Complete\n",
        "Status Changed: Procedure De-Emphasis Calibration Init\n",
        "Status Changed: Procedure De-Emphasis Calibration Start Iteration 0\n",
        "Status Changed: Procedure De-Emphasis Calibration Step 0\n",
        "Status Changed: Procedure De-Emphasis Calibration Step 1\n",
        "Status Changed: Procedure De-Emphasis Calibration CleanUp\n",
        "Status Changed: Procedure De-Emphasis Calibration Complete\n",
        "Status Changed: Product PCI Express Complete\n",
        "Status Changed: Station Complete\n",
        "Status Changed: Complete\n"
       ]
      }
     ],
     "prompt_number": 76
    },
    {
     "cell_type": "markdown",
     "metadata": {},
     "source": [
      "<h4>Example 1: Synchronous RunProcedure() or RunProcedure() methods</h4>\n",
      "<ul><li>The RunProcedure() and RunProcedures() methods are **synchronous** in the sense that the Procedure must complete before control is returned to the Python prompt.</ul>"
     ]
    },
    {
     "cell_type": "code",
     "collapsed": false,
     "input": [
      "# run procedures synchronously\n",
      "#myprocs = array(309629,309630)\n",
      "results = my_vf_pcie.RunProcedures(procedureIDs,\"ProcNames\")"
     ],
     "language": "python",
     "metadata": {},
     "outputs": [
      {
       "name": "stdout",
       "output_type": "stream",
       "stream": "stdout",
       "text": [
        "Connection Dialog: {\\colortbl ;\\red0\\green0\\blue255;\\red0\\green128\\blue0;\\red255\\green128\\blue0;\\red255\\green0\\blue0;\\red40\\green130\\blue100;\\red204\\green170\\blue0;\\red125\\green33\\blue255;}\\tx150\\fs18\\cf0-\\tab Connect the J-BERT and the N4916B De-Emphasis Signal Converter with a USB Cable. \\par \\cf5-\\tab Connect J-BERT DATA OUT to N4916B DATA IN and J-BERT AUX CLK OUT to N4916B CLK IN. \\par \\cf0-\\tab Screw two 14dB Pick Off Tees from Pulse Labs (5372-112) onto the N4916B DATA OUT and DATA OUT BAR. \\par -\\tab Connect J-BERT Option J20 P1 and P1 BAR to the inputs of the Pick Off Tees. \\par -\\tab The two SMA cables must be phase matched.\\par -\\tab Connect two N9398C blocking capacitors to the outputs of the Pick Off Tees.\\par -\\tab Connect the blocking capacitors to Rx Lane 0 P and N of the Rise Card 3.0 (CBBR) using phase matched SMA/SMP cable pairs. \\par \\cf1-\\tab Connect Tx Lane 0 P and N of the CLB to oscilloscope channel 1 and 3 \\cf1 using the N4235-61602 phase matched SMA/SMP cable pair (otherwise using a phase matched low loss cable pair). \\par \\cf0-\\tab Plug the Compliance Load Board 3.0 into the Compliance Base Board 3.0 and the Compliance Base Board 3.0 into the Riser Card 3.0. \\par \\cf4-\\tab Terminate all unused outputs as indicated in the connection diagram. \\par \n"
       ]
      },
      {
       "name": "stdout",
       "output_type": "stream",
       "stream": "stdout",
       "text": [
        "Connection Dialog: {\\colortbl ;\\red0\\green0\\blue255;\\red0\\green128\\blue0;\\red255\\green128\\blue0;\\red255\\green0\\blue0;\\red40\\green130\\blue100;\\red204\\green170\\blue0;\\red125\\green33\\blue255;}\\tx150\\fs18\\cf0-\\tab Connect the J-BERT and the N4916B De-Emphasis Signal Converter with a USB Cable. \\par \\cf5-\\tab Connect J-BERT DATA OUT to N4916B DATA IN and J-BERT AUX CLK OUT to N4916B CLK IN. \\par \\cf0-\\tab Screw two 14dB Pick Off Tees from Pulse Labs (5372-112) onto the N4916B DATA OUT and DATA OUT BAR. \\par -\\tab Connect J-BERT Option J20 P1 and P1 BAR to the inputs of the Pick Off Tees. \\par -\\tab The two SMA cables must be phase matched.\\par -\\tab Connect two N9398C blocking capacitors to the outputs of the Pick Off Tees.\\par -\\tab Connect the blocking capacitors to Rx Lane 0 P and N of the Compliance Base Board 3.0 (CBB) using phase matched SMA/SMP cable pairs. \\par -\\tab Connect Tx Lane 0 P and N of the CBB to the J-BERT error detector DATA IN and DATA IN BAR using phase matched SMA/SMP cable pairs. \\par\\cf0-\\tab Plug the DUT into the Compliance Base Board 3.0 and the Compliance Base Board 3.0 into the Riser Card 3.0. \\par \\cf7-\\tab Connect the J-BERT TRIGGER OUT and TRIGGER OUT BAR to the CBB reference clock input ports. \\par -\\tab Bring BRD REFCLK/External REFCLK switch on CBB in External REFCLK position. \\par \\cf4-\\tab Terminate all unused outputs as indicated in the connection diagram. \\par \n"
       ]
      },
      {
       "name": "stdout",
       "output_type": "stream",
       "stream": "stdout",
       "text": [
        "Standard Windows.Forms.MessageBox: Please power cycle the DUT and press OK\n"
       ]
      },
      {
       "name": "stdout",
       "output_type": "stream",
       "stream": "stdout",
       "text": [
        "Standard Windows.Forms.MessageBox: Please power cycle the DUT and press OK\n"
       ]
      },
      {
       "name": "stdout",
       "output_type": "stream",
       "stream": "stdout",
       "text": [
        "Standard Windows.Forms.MessageBox: Please power cycle the DUT and press OK\n"
       ]
      },
      {
       "output_type": "stream",
       "stream": "stdout",
       "text": [
        "Status Changed: Start\n",
        "Status Changed: Procedure Pre-Shoot Calibration Init\n",
        "Status Changed: Procedure Pre-Shoot Calibration Start Iteration 0\n",
        "Status Changed: Procedure Pre-Shoot Calibration Step 0\n",
        "Status Changed: Procedure Pre-Shoot Calibration Step 1\n",
        "Status Changed: Procedure Pre-Shoot Calibration CleanUp\n",
        "Status Changed: Procedure Pre-Shoot Calibration Complete\n",
        "Status Changed: Procedure De-Emphasis Calibration Init\n",
        "Status Changed: Procedure De-Emphasis Calibration Start Iteration 0\n",
        "Status Changed: Procedure De-Emphasis Calibration Step 0\n",
        "Status Changed: Procedure De-Emphasis Calibration Step 1\n",
        "Status Changed: Procedure De-Emphasis Calibration CleanUp\n",
        "Status Changed: Procedure De-Emphasis Calibration Complete\n",
        "Status Changed: Procedure Equalization Preset Calibration Init\n",
        "Status Changed: Procedure Equalization Preset Calibration Start Iteration 0\n",
        "Status Changed: Procedure Equalization Preset Calibration Step 0\n",
        "Status Changed: Procedure Equalization Preset Calibration Step 1\n",
        "Status Changed: Procedure Equalization Preset Calibration Step 2\n",
        "Status Changed: Procedure Equalization Preset Calibration Step 3\n",
        "Status Changed: Procedure Equalization Preset Calibration Step 4\n",
        "Status Changed: Procedure Equalization Preset Calibration Step 5\n",
        "Status Changed: Procedure Equalization Preset Calibration Step 6\n",
        "Status Changed: Procedure Equalization Preset Calibration Step 7\n",
        "Status Changed: Procedure Equalization Preset Calibration Step 8\n",
        "Status Changed: Procedure Equalization Preset Calibration Step 9\n",
        "Status Changed: Procedure Equalization Preset Calibration CleanUp\n",
        "Status Changed: Procedure Equalization Preset Calibration Complete\n",
        "Status Changed: Procedure Equalization Custom Preset Calibration Init\n",
        "Status Changed: Procedure Equalization Custom Preset Calibration Start Iteration 0\n",
        "Status Changed: Procedure Equalization Custom Preset Calibration Step 0\n",
        "Status Changed: Procedure Equalization Custom Preset Calibration CleanUp\n",
        "Status Changed: Procedure Equalization Custom Preset Calibration Complete\n",
        "Status Changed: Procedure Random Jitter Calibration Init\n",
        "Status Changed: Procedure Random Jitter Calibration CleanUp\n",
        "Status Changed: Procedure Random Jitter Calibration Complete\n",
        "Status Changed: Procedure Sinusoidal Jitter Calibration Init\n",
        "Status Changed: Procedure Sinusoidal Jitter Calibration CleanUp\n",
        "Status Changed: Procedure Sinusoidal Jitter Calibration Complete\n",
        "Status Changed: Procedure DM Sinusoidal Interference Calibration Init\n",
        "Status Changed: Procedure DM Sinusoidal Interference Calibration Start Iteration 0\n",
        "Status Changed: Procedure DM Sinusoidal Interference Calibration Step 0\n",
        "Status Changed: Procedure DM Sinusoidal Interference Calibration Step 1\n",
        "Status Changed: Procedure DM Sinusoidal Interference Calibration Step 2\n",
        "Status Changed: Procedure DM Sinusoidal Interference Calibration Step 3\n",
        "Status Changed: Procedure DM Sinusoidal Interference Calibration Step 4\n",
        "Status Changed: Procedure DM Sinusoidal Interference Calibration Step 5\n",
        "Status Changed: Procedure DM Sinusoidal Interference Calibration Step 6\n",
        "Status Changed: Procedure DM Sinusoidal Interference Calibration Step 7\n",
        "Status Changed: Procedure DM Sinusoidal Interference Calibration Step 8\n",
        "Status Changed: Procedure DM Sinusoidal Interference Calibration CleanUp\n",
        "Status Changed: Procedure DM Sinusoidal Interference Calibration Complete\n",
        "Status Changed: Procedure Eye Height and Width Calibration Init\n",
        "Status Changed: Procedure Eye Height and Width Calibration CleanUp\n",
        "Status Changed: Procedure Eye Height and Width Calibration Complete\n",
        "Status Changed: Procedure Compliance Eye Calibration Init\n",
        "Status Changed: Procedure Compliance Eye Calibration CleanUp\n",
        "Status Changed: Procedure Compliance Eye Calibration Complete\n",
        "Status Changed: Procedure Preset Compliance Test Init\n",
        "Status Changed: Procedure Preset Compliance Test Start Iteration 0\n",
        "Status Changed: Procedure Preset Compliance Test Step 0\n",
        "Status Changed: Procedure Preset Compliance Test Step 1\n",
        "Status Changed: Procedure Preset Compliance Test CleanUp\n",
        "Status Changed: Procedure Preset Compliance Test Complete\n",
        "Status Changed: Procedure Compliance Test Init\n",
        "Status Changed: Procedure Compliance Test Start Iteration 0\n",
        "Status Changed: Procedure Compliance Test Step 0\n",
        "Status Changed: Procedure Compliance Test CleanUp\n",
        "Status Changed: Procedure Compliance Test Complete\n",
        "Status Changed: Procedure Unit Interval  Init\n",
        "Status Changed: Procedure Unit Interval  Start Iteration 0\n",
        "Status Changed: Procedure Unit Interval  Step 0\n",
        "Status Changed: Procedure Unit Interval  CleanUp\n",
        "Status Changed: Procedure Unit Interval  Complete\n",
        "Status Changed: Procedure Template Tests  Init\n",
        "Status Changed: Procedure Template Tests  Start Iteration 0\n",
        "Status Changed: Procedure Template Tests  Step 0\n",
        "Status Changed: Procedure Template Tests  CleanUp\n",
        "Status Changed: Procedure Template Tests  Complete\n",
        "Status Changed: Procedure Eye-Width  Init\n",
        "Status Changed: Procedure Eye-Width  Start Iteration 0\n",
        "Status Changed: Procedure Eye-Width  Step 0\n",
        "Status Changed: Procedure Eye-Width  CleanUp\n",
        "Status Changed: Procedure Eye-Width  Complete\n",
        "Status Changed: Procedure Peak Differential Output Voltage  Init\n",
        "Status Changed: Procedure Peak Differential Output Voltage  Start Iteration 0\n",
        "Status Changed: Procedure Peak Differential Output Voltage  Step 0\n",
        "Status Changed: Procedure Peak Differential Output Voltage  CleanUp\n",
        "Status Changed: Procedure Peak Differential Output Voltage  Complete\n",
        "Status Changed: Product PCI Express Complete\n",
        "Status Changed: Station Complete\n",
        "Status Changed: Complete\n"
       ]
      }
     ],
     "prompt_number": 77
    },
    {
     "cell_type": "markdown",
     "metadata": {},
     "source": [
      "In the above example the program pauses at each line above waiting for the user to hit enter per our use of raw_input()."
     ]
    },
    {
     "cell_type": "markdown",
     "metadata": {},
     "source": [
      "<h4>Example 2: Asynchronous StartRun() method</h4>\n",
      "<ul><li>Since StartRun() returns control to the Python interpreter immediately we can insert a while loop to check the status of the procedures. This will allow the flow to execute just as the synchronous method above did.</ul>"
     ]
    },
    {
     "cell_type": "code",
     "collapsed": false,
     "input": [
      "# run procedures asynchronously\n",
      "my_procedures = [309629, 309630]  ## define variable for procedures to execute\n",
      "my_vf_pcie.SelectProcedures(procs_list)\n",
      "my_vf_pcie.StartRun()\n",
      "while True:\n",
      "    time.sleep(2)\n",
      "    status = my_vf_pcie.GetActualStatus()\n",
      "    if status == 'Complete':\n",
      "        break"
     ],
     "language": "python",
     "metadata": {},
     "outputs": [
      {
       "name": "stdout",
       "output_type": "stream",
       "stream": "stdout",
       "text": [
        "Connection Dialog: {\\colortbl ;\\red0\\green0\\blue255;\\red0\\green128\\blue0;\\red255\\green128\\blue0;\\red255\\green0\\blue0;\\red40\\green130\\blue100;\\red204\\green170\\blue0;\\red125\\green33\\blue255;}\\tx150\\fs18\\cf0-\\tab Connect the J-BERT and the N4916B De-Emphasis Signal Converter with a USB Cable. \\par \\cf5-\\tab Connect J-BERT DATA OUT to N4916B DATA IN and J-BERT AUX CLK OUT to N4916B CLK IN. \\par \\cf0-\\tab Screw two 14dB Pick Off Tees from Pulse Labs (5372-112) onto the N4916B DATA OUT and DATA OUT BAR. \\par -\\tab Connect J-BERT Option J20 P1 and P1 BAR to the inputs of the Pick Off Tees. \\par -\\tab The two SMA cables must be phase matched.\\par -\\tab Connect two N9398C blocking capacitors to the outputs of the Pick Off Tees.\\par -\\tab Connect the blocking capacitors to oscilloscope channel 1 and 3. Use the same phase matched SMA/SMP cable pair that will be connected to the Rx lanes in the Rx Tests\\cf2  and SMP/SMA adapters. \\par \\cf4-\\tab Terminate all unused outputs as indicated in the connection diagram. \\par \n"
       ]
      },
      {
       "output_type": "stream",
       "stream": "stdout",
       "text": [
        "Status Changed: Start\n",
        "Status Changed: Procedure Pre-Shoot Calibration Init\n",
        "Status Changed: Procedure Pre-Shoot Calibration Start Iteration 0\n",
        "Status Changed: Procedure Pre-Shoot Calibration Step 0\n",
        "Status Changed: Procedure Pre-Shoot Calibration Step 1\n",
        "Status Changed: Procedure Pre-Shoot Calibration CleanUp\n",
        "Status Changed: Procedure Pre-Shoot Calibration Complete\n",
        "Status Changed: Procedure De-Emphasis Calibration Init\n",
        "Status Changed: Procedure De-Emphasis Calibration Start Iteration 0\n",
        "Status Changed: Procedure De-Emphasis Calibration Step 0\n",
        "Status Changed: Procedure De-Emphasis Calibration Step 1\n",
        "Status Changed: Procedure De-Emphasis Calibration CleanUp\n",
        "Status Changed: Procedure De-Emphasis Calibration Complete\n",
        "Status Changed: Product PCI Express Complete\n",
        "Status Changed: Station Complete\n",
        "Status Changed: Complete\n"
       ]
      }
     ],
     "prompt_number": 78
    },
    {
     "cell_type": "code",
     "collapsed": false,
     "input": [
      "# Unregister the event handlers\n",
      "my_vf_mipi.LogChanged -= LogChangedEventHandler(my_LogChanged);\n",
      "my_vf_mipi.StatusChanged -= StatusChangedEventHandler(my_StatusChanged);\n",
      "my_vf_mipi.ProcedureCompleted -= ProcedureCompletedEventHandler(my_ProcedureCompleted);\n",
      "my_vf_mipi.DialogPopUp -= DialogShowEventHandler(my_DialogPopUp);\n",
      "# close object\n",
      "my_vf_mipi.Finalize()"
     ],
     "language": "python",
     "metadata": {},
     "outputs": [],
     "prompt_number": 8
    },
    {
     "cell_type": "markdown",
     "metadata": {},
     "source": [
      "Copyright \u00a9 2011 Agilent Technologies Inc. All rights reserved.\n",
      "\n",
      "You have a royalty-free right to use, modify, reproduce and distribute this content (and/or any modified version) in any way you find useful, provided that you agree that Agilent has no warranty, obligations or liability."
     ]
    }
   ],
   "metadata": {}
  }
 ]
}