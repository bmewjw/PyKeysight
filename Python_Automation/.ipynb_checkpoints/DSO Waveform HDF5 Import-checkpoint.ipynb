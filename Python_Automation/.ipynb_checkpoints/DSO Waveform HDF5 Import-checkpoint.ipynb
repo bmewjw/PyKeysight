{
 "cells": [
  {
   "cell_type": "code",
   "execution_count": 1,
   "metadata": {
    "collapsed": true
   },
   "outputs": [],
   "source": [
    "import h5py\n",
    "import numpy as np"
   ]
  },
  {
   "cell_type": "code",
   "execution_count": null,
   "metadata": {
    "collapsed": true
   },
   "outputs": [],
   "source": [
    "## open file HDF5 file using h5py\n",
    "f1 = h5py.File('C:\\hdf5.h5', 'r')\n",
    "print f1.filename\n",
    "\n",
    "## file 'keys()' method\n",
    "## Get a list containing member names\n",
    "print f1.keys()\n",
    "## file 'values()' method\n",
    "## Get a list containing member objects\n",
    "print f1.values()\n",
    "## file 'items()' method\n",
    "## Get a list containing (name, object) pairs\n",
    "print f1.items()\n",
    "print ' '\n",
    "\n",
    "## create object for each of the groups in HDF5 file\n",
    "groupFileType = f1['FileType']\n",
    "groupFrame = f1['Frame']\n",
    "groupWaveforms = f1['Waveforms']\n",
    "\n",
    "## Determine Member Names\n",
    "print groupFileType.keys()\n",
    "print groupFrame.keys()\n",
    "print groupWaveforms.keys()\n",
    "print ' '\n",
    "\n",
    "## Create Frame Object\n",
    "subgroupFrame = groupFrame['TheFrame']\n",
    "## Create Variable with Frame information\n",
    "mymodel = subgroupFrame.value[0]\n",
    "print 'Model: ' + mymodel\n",
    "mySN = subgroupFrame.value[1]\n",
    "print 'SN: ' + mySN\n",
    "mydate = subgroupFrame.value[2]\n",
    "print 'Date: ' + mydate\n",
    "print ' '\n",
    "\n",
    "## Create Channel Object\n",
    "subgroupChan = groupWaveforms['Channel 3']\n",
    "\n",
    "## Determine Member Names\n",
    "print subgroupChan.keys()\n",
    "## Create Waveform Data Object\n",
    "subgroupData = subgroupChan['Channel 3Data']\n",
    "\n",
    "## Determine member names for Chan1 attributes\n",
    "print subgroupChan.attrs.keys()\n",
    "print subgroupChan.attrs.values()\n",
    "print subgroupChan.attrs.items()\n",
    "print ' '\n",
    "\n",
    "mychankeys = subgroupChan.attrs.keys()\n",
    "mychansetup = subgroupChan.attrs.values()\n",
    "\n",
    "## print x axis setup values\n",
    "for x in range(len(mychankeys)):\n",
    "     print mychankeys[x]\n",
    "     print mychansetup[x]\n",
    "     print ' '\n",
    "\n",
    "## Create Float32 Array with Waveform Data from Channel 1\n",
    "print subgroupData.dtype\n",
    "myarray = subgroupData.value\n",
    "## number of elements in the waveform array\n",
    "print myarray.size\n",
    "## array\n",
    "print myarray\n",
    "\n",
    "## close file\n",
    "f1.close()"
   ]
  }
 ],
 "metadata": {
  "kernelspec": {
   "display_name": "Python 2",
   "language": "python",
   "name": "python2"
  },
  "language_info": {
   "codemirror_mode": {
    "name": "ipython",
    "version": 2
   },
   "file_extension": ".py",
   "mimetype": "text/x-python",
   "name": "python",
   "nbconvert_exporter": "python",
   "pygments_lexer": "ipython2",
   "version": "2.7.7"
  }
 },
 "nbformat": 4,
 "nbformat_minor": 0
}
