{
 "metadata": {
  "name": "",
  "signature": "sha256:d171b9ecdf136fd0f4221c5227f78bc4c5b7dad4a56d013bde1961a29276aec2"
 },
 "nbformat": 3,
 "nbformat_minor": 0,
 "worksheets": [
  {
   "cells": [
    {
     "cell_type": "heading",
     "level": 3,
     "metadata": {},
     "source": [
      "<div align=right><img src=keysight-logo.png align=right></div>\n",
      "<h1>Q-scale Bathtub from M8020A Output Timing Measurement</h1>\n",
      "<br>\n",
      "This example shows how to extract the results of an Output Timing measurement from the M8070A software, calculate & plot the BER vs delay, then convert to Q-scale and plot.</h3>\n",
      "<br>\n",
      "*Note that the data used for this demonstration is simulated data so the plot data will look a little blocky. However it serves the purpose of demonstrating the procedure.*"
     ]
    },
    {
     "cell_type": "markdown",
     "metadata": {},
     "source": [
      "First we make our imports:"
     ]
    },
    {
     "cell_type": "code",
     "collapsed": false,
     "input": [
      "from __future__ import division\n",
      "import visa\n",
      "import numpy as np\n",
      "from scipy.special import erfinv # We can use the Inverse Error Function from scipy.special to help calculate Q from BER\n",
      "import matplotlib.pyplot as plt\n",
      "%matplotlib inline"
     ],
     "language": "python",
     "metadata": {},
     "outputs": [],
     "prompt_number": 1
    },
    {
     "cell_type": "markdown",
     "metadata": {},
     "source": [
      "Next connect to the BERT using PyVISA:"
     ]
    },
    {
     "cell_type": "code",
     "collapsed": false,
     "input": [
      "rm = visa.ResourceManager()\n",
      "bert = rm.open_resource(\"TCPIP0::localhost::inst0::INSTR\")"
     ],
     "language": "python",
     "metadata": {},
     "outputs": [],
     "prompt_number": 2
    },
    {
     "cell_type": "markdown",
     "metadata": {},
     "source": [
      "The Output Timing measurement data query below will return a string containing the following for each measurement point:\n",
      "Timestamp, Compared Ones, Compared Zeros, Errored Ones, Errored Zeros, Delay.\n",
      "We will extract these and put them into numpy arrays for easy calculation of Bit Error Ratio"
     ]
    },
    {
     "cell_type": "code",
     "collapsed": false,
     "input": [
      "otim_data = bert.query(\":PLUG:OTIM:FETC:DATA? 'Output Timing 1','M1.DataIn1'\").split(',')\n",
      "comp_ones = np.array([int(comp_one) for comp_one in otim_data[2::7]])\n",
      "comp_zeros = np.array([int(comp_zero) for comp_zero in otim_data[3::7]])\n",
      "err_ones = np.array([int(err_one) for err_one in otim_data[4::7]])\n",
      "err_zeros = np.array([int(err_zero) for err_zero in otim_data[5::7]])\n",
      "delays = np.array([float(delay) for delay in otim_data[6::7]])\n",
      "bers = (err_ones + err_zeros)/(comp_ones + comp_zeros)"
     ],
     "language": "python",
     "metadata": {},
     "outputs": [
      {
       "output_type": "stream",
       "stream": "stderr",
       "text": [
        "C:\\Anaconda\\lib\\site-packages\\pyvisa\\ctwrapper\\functions.py:1569: VisaIOWarning: VI_SUCCESS_MAX_CNT (1073676294): The number of bytes transferred is equal to the requested input count. More data may be available.\n",
        "  ret = library.viRead(session, buffer, count, byref(return_count))\n"
       ]
      }
     ],
     "prompt_number": 3
    },
    {
     "cell_type": "markdown",
     "metadata": {},
     "source": [
      "Now we can plot the BER vs Delay"
     ]
    },
    {
     "cell_type": "code",
     "collapsed": false,
     "input": [
      "plt.semilogy(delays, bers)"
     ],
     "language": "python",
     "metadata": {},
     "outputs": [
      {
       "metadata": {},
       "output_type": "pyout",
       "prompt_number": 7,
       "text": [
        "[<matplotlib.lines.Line2D at 0xbd02c30>]"
       ]
      },
      {
       "metadata": {},
       "output_type": "display_data",
       "png": "[encoded data removed]",
       "text": [
        "<matplotlib.figure.Figure at 0x66f44f0>"
       ]
      }
     ],
     "prompt_number": 7
    },
    {
     "cell_type": "code",
     "collapsed": false,
     "input": [
      "td = 0.5 # Transition Density is required to calculate Q from BER\n",
      "q = -np.sqrt(2)*erfinv(1-bers/td)"
     ],
     "language": "python",
     "metadata": {},
     "outputs": [],
     "prompt_number": 5
    },
    {
     "cell_type": "code",
     "collapsed": false,
     "input": [
      "plt.plot(delays, q)"
     ],
     "language": "python",
     "metadata": {},
     "outputs": [
      {
       "metadata": {},
       "output_type": "pyout",
       "prompt_number": 6,
       "text": [
        "[<matplotlib.lines.Line2D at 0x66e6630>]"
       ]
      },
      {
       "metadata": {},
       "output_type": "display_data",
       "png": "[encoded data removed]",
       "text": [
        "<matplotlib.figure.Figure at 0xbb9b070>"
       ]
      }
     ],
     "prompt_number": 6
    },
    {
     "cell_type": "markdown",
     "metadata": {},
     "source": [
      "Copyright \u00a9 2014 Keysight Technologies Inc. All rights reserved.\n",
      "\n",
      "You have a royalty-free right to use, modify, reproduce and distribute this content (and/or any modified version) in any way you find useful, provided that you agree that Keysight has no warranty, obligations or liability."
     ]
    }
   ],
   "metadata": {}
  }
 ]
}