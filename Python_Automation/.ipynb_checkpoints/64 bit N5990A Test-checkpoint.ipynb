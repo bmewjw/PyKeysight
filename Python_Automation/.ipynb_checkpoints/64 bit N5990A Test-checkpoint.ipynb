{
 "metadata": {
  "name": "",
  "signature": "sha256:802c6b83ee437154ea5bd3ffe4f212873380fe2ba59b23ddbf57d970b0a57839"
 },
 "nbformat": 3,
 "nbformat_minor": 0,
 "worksheets": [
  {
   "cells": [
    {
     "cell_type": "code",
     "collapsed": false,
     "input": [
      "import sys\n",
      "sys.version"
     ],
     "language": "python",
     "metadata": {},
     "outputs": [
      {
       "metadata": {},
       "output_type": "pyout",
       "prompt_number": 1,
       "text": [
        "'2.7.8 |Anaconda 2.1.0 (64-bit)| (default, Jul  2 2014, 15:12:11) [MSC v.1500 64 bit (AMD64)]'"
       ]
      }
     ],
     "prompt_number": 1
    },
    {
     "cell_type": "code",
     "collapsed": false,
     "input": [
      "import time\n",
      "import win32api\n",
      "sys.path.append('C:\\\\Program Files (x86)\\\\BitifEye\\\\ValiFrame\\\\MPhy') # Add the location of the Valiframe dll's to the system path\n",
      "import clr # Import the Common Runtime Library Python module\n",
      "\n",
      "clr.AddReference(\"ValiFrameRemote\") # Create a reference from CLR to the ValiFrameRemote DLL\n",
      "clr.AddReference(\"VFBase\") # Create a reference from CLR to the VFBase DLL\n",
      "clr.AddReference(\"VFSequence\") # Create a reference from CLR to the VFSequence DLL\n",
      "clr.AddReference(\"VFUserInterface\") # Create a reference from CLR to the VFUserInterface DLL\n",
      "\n",
      "from BitifEye.ValiFrame.ValiFrameRemote import * # Import the entire ValiFrameRemote namespace from the DLL\n",
      "from BitifEye.ValiFrame.Base import * # Import the entire Base namespace from the DLL\n",
      "from BitifEye.ValiFrame.Sequence import * # Import the entire Sequence namespace from the DLL\n",
      "from BitifEye.ValiFrame.UserInterface import * # Import the entire UserInterface namespace from the DLL\n",
      "from BitifEye.Controls import * # Import the entire Controls namespace from the DLL"
     ],
     "language": "python",
     "metadata": {},
     "outputs": [],
     "prompt_number": 2
    },
    {
     "cell_type": "code",
     "collapsed": false,
     "input": [
      "my_vf_mphy = ValiFrameRemote() # Creates an instance of the ValiFrameRemote class"
     ],
     "language": "python",
     "metadata": {},
     "outputs": [],
     "prompt_number": 3
    },
    {
     "cell_type": "code",
     "collapsed": false,
     "input": [
      "my_vf_mphy.InitApplication(\"MPhy\")"
     ],
     "language": "python",
     "metadata": {},
     "outputs": [
      {
       "metadata": {},
       "output_type": "pyout",
       "prompt_number": 4,
       "text": [
        "True"
       ]
      }
     ],
     "prompt_number": 4
    },
    {
     "cell_type": "code",
     "collapsed": false,
     "input": [
      "my_vf_mphy.LoadProject(\"my_MPHY_proj.vfp\")"
     ],
     "language": "python",
     "metadata": {},
     "outputs": [],
     "prompt_number": 5
    },
    {
     "cell_type": "code",
     "collapsed": false,
     "input": [
      "procedureIDs = procedureNames = [] # The variable names must be assigned to something but are overwritten in the next call\n",
      "_, procedureIDs, procedureNames = my_vf_mphy.GetProcedures(procedureIDs, procedureNames)\n",
      "procedureIDs = [int(id) for id in procedureIDs] # Convert to a python list of integers\n",
      "procedureNames = [str(name) for name in procedureNames] # Convert to a python list of strings\n",
      "procs = zip(procedureIDs, procedureNames) # Zip the id's & names together. A dictionary may also be a useful way to store these.\n",
      "for proc_id,proc_name in procs:\n",
      "    print proc_id, proc_name"
     ],
     "language": "python",
     "metadata": {},
     "outputs": [
      {
       "output_type": "stream",
       "stream": "stdout",
       "text": [
        "5510089 Reference Clock Calibration\n",
        "5510000 Level Calibration Terminated Data0\n",
        "5510005 Level Calibration Into Open Data0\n",
        "5510001 Level Calibration Terminated Data1\n",
        "5510006 Level Calibration Into Open Data1\n",
        "5510120 ISI Calibration Gear 1 & Gear 2\n",
        "5510030 Short Term RJ Calibration 1248 MBit/s\n",
        "5510040 Low Frequency RJ Calibration 1248 MBit/s\n",
        "5510020 High Frequency SJ Calibration 1248 MBit/s\n",
        "5510010 SJ Calibration 1248 MBit/s\n",
        "5510090 ISI Calibration (J20) 1248 MBit/s\n",
        "5510100 Accumulated Voltage Calibration with Jitter Terminated HS 1248 MBit/s\n",
        "5510060 Accumulated Voltage Calibration Terminated HS 1248 MBit/s\n",
        "5500000 Test 2.1.1 - HS-RX Differential Input Voltage Amplitude Data0 at 1.248 GBit/s\n",
        "5500040 Test 2.1.3 - HS-RX Common-Mode Input Voltage Tolerance Data0 at 1.248 GBit/s\n",
        "5500200 Test 2.1.8 - HS-RX Frequency Offset Tolerance (fOFFSET-RX) during HS-Burst Data0 at 1.248 GBit/s\n",
        "5500240 Test 2.1.8b - HS-RX Frequency Offset Tolerance (fOFFSET-RX) during HS-Continuous Mode Data0 at 1.248 GBit/s\n",
        "5500280 Test 2.1.9 - HS-RX Prepare Length Verification Data0 at 1.248 GBit/s\n",
        "5500320 Test 2.1.10 - HS-RX Sync Length Verification Data0 at 1.248 GBit/s\n",
        "5500080 Test 2.1.4 - HS-RX Differential Termination Enable Time (T TERM-ON-HS-RX ) Data0 at 1.248 GBit/s\n",
        "5500120 Test 2.1.5 - HS-RX Differential Termination Disable Time (T TERM-OFF-HS-RX ) Data0 at 1.248 GBit/s\n",
        "5500360 Test 2.1.2 - HS-RX Accumulated Differential Input Voltage Tolerance Data0 at 1.248 GBit/s\n",
        "5500400 Test 2.1.7 - Receiver Jitter Tolerance Data0 at 1.248 GBit/s\n",
        "5500440 Jitter Sensitivity Data0 at 1.248 GBit/s\n",
        "5500480 Low Frequency Jitter Sensitivity Data0 at 1.248 GBit/s\n",
        "5500001 Test 2.1.1 - HS-RX Differential Input Voltage Amplitude Data1 at 1.248 GBit/s\n",
        "5500041 Test 2.1.3 - HS-RX Common-Mode Input Voltage Tolerance Data1 at 1.248 GBit/s\n",
        "5500201 Test 2.1.8 - HS-RX Frequency Offset Tolerance (fOFFSET-RX) during HS-Burst Data1 at 1.248 GBit/s\n",
        "5500241 Test 2.1.8b - HS-RX Frequency Offset Tolerance (fOFFSET-RX) during HS-Continuous Mode Data1 at 1.248 GBit/s\n",
        "5500281 Test 2.1.9 - HS-RX Prepare Length Verification Data1 at 1.248 GBit/s\n",
        "5500321 Test 2.1.10 - HS-RX Sync Length Verification Data1 at 1.248 GBit/s\n",
        "5500081 Test 2.1.4 - HS-RX Differential Termination Enable Time (T TERM-ON-HS-RX ) Data1 at 1.248 GBit/s\n",
        "5500121 Test 2.1.5 - HS-RX Differential Termination Disable Time (T TERM-OFF-HS-RX ) Data1 at 1.248 GBit/s\n",
        "5500361 Test 2.1.2 - HS-RX Accumulated Differential Input Voltage Tolerance Data1 at 1.248 GBit/s\n",
        "5500401 Test 2.1.7 - Receiver Jitter Tolerance Data1 at 1.248 GBit/s\n",
        "5500441 Jitter Sensitivity Data1 at 1.248 GBit/s\n",
        "5500880 Test 2.3.1 - SYS-RX Differential Input Voltage Amplitude Data0 at 26 MBit/s\n",
        "5500890 Test 2.3.3 - SYS-RX Common-Mode Input Voltage Tolerance Data0 at 26 MBit/s\n",
        "5500900 Test 2.3.4 - SYS-RX Differential Termination Enable Time (T TERM-ON-SYS-RX ) Data0 at 26 MBit/s\n",
        "5500904 Test 2.3.5 - SYS-RX Differential Termination Disable Time (T TERM-OFF-SYS-RX ) Data0 at 26 MBit/s\n",
        "5500882 Test 2.3.1 - SYS-RX Differential Input Voltage Amplitude Data1 at 26 MBit/s\n",
        "5500892 Test 2.3.3 - SYS-RX Common-Mode Input Voltage Tolerance Data1 at 26 MBit/s\n",
        "5500901 Test 2.3.4 - SYS-RX Differential Termination Enable Time (T TERM-ON-SYS-RX ) Data1 at 26 MBit/s\n",
        "5500905 Test 2.3.5 - SYS-RX Differential Termination Disable Time (T TERM-OFF-SYS-RX ) Data1 at 26 MBit/s\n",
        "5500881 Test 2.3.1 - SYS-RX Differential Input Voltage Amplitude Data0 at 26 MBit/s\n",
        "5500891 Test 2.3.3 - SYS-RX Common-Mode Input Voltage Tolerance Data0 at 26 MBit/s\n",
        "5500883 Test 2.3.1 - SYS-RX Differential Input Voltage Amplitude Data1 at 26 MBit/s\n",
        "5500893 Test 2.3.3 - SYS-RX Common-Mode Input Voltage Tolerance Data1 at 26 MBit/s\n",
        "5510098 Interference Calibration\n",
        "5502099 Test 2.4.7 - SQ-RX Squelch RF Interference Tolerance (V_INT-SQ, f_INT-SQ) Data0\n",
        "5502100 Common Mode Interference Data0 at 1.248 GBit/s\n",
        "5511997 Setup Procedure Full\n",
        "5511998 Setup Procedure Pattern\n",
        "5511999 Setup Procedure Fast\n"
       ]
      }
     ],
     "prompt_number": 7
    },
    {
     "cell_type": "code",
     "collapsed": false,
     "input": [
      "result = str()\n",
      "my_vf_mphy.RunProcedure(5500880, result)"
     ],
     "language": "python",
     "metadata": {},
     "outputs": [
      {
       "metadata": {},
       "output_type": "pyout",
       "prompt_number": 9,
       "text": [
        "(True,\n",
        " u'<?xml version=\"1.0\" encoding=\"utf-16\"?>\\r\\n<TestResults>\\r\\n  <Summary>\\r\\n    <ProcedureName>Test 2.3.1 - SYS-RX Differential Input Voltage Amplitude Data0 at 26 MBit/s</ProcedureName>\\r\\n    <ProcedureID>5500880</ProcedureID>\\r\\n    <Result>Incomplete</Result>\\r\\n    <DateTime>1/9/2015 12:23:49 PM</DateTime>\\r\\n  </Summary>\\r\\n</TestResults>')"
       ]
      }
     ],
     "prompt_number": 9
    },
    {
     "cell_type": "code",
     "collapsed": false,
     "input": [],
     "language": "python",
     "metadata": {},
     "outputs": []
    }
   ],
   "metadata": {}
  }
 ]
}