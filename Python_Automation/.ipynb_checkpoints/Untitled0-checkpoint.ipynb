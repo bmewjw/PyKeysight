{
 "metadata": {
  "name": "",
  "signature": "sha256:c43b00b544989fc4aa47f8feada98ca3c35147cdfea222bb7f5318336f59ef45"
 },
 "nbformat": 3,
 "nbformat_minor": 0,
 "worksheets": []
}