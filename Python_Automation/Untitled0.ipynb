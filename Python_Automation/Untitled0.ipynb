{
 "metadata": {
  "name": "",
  "signature": "sha256:89baae88cab65a9473ea3f8962ebeaa1e5e1df0c47d4142b68c18e067a06a84b"
 },
 "nbformat": 3,
 "nbformat_minor": 0,
 "worksheets": [
  {
   "cells": [
    {
     "cell_type": "code",
     "collapsed": false,
     "input": [
      "1+1"
     ],
     "language": "python",
     "metadata": {},
     "outputs": [
      {
       "metadata": {},
       "output_type": "pyout",
       "prompt_number": 1,
       "text": [
        "2"
       ]
      }
     ],
     "prompt_number": 1
    },
    {
     "cell_type": "code",
     "collapsed": false,
     "input": [
      "scopeIpAddress = \"141.121.97.37\"\n",
      "scope = visa.instrument(\"TCPIP0::\"+scopeIpAddress+\"::inst0::INSTR\")\n",
      "sys.path.append('C:\\\\ProgramData\\\\Agilent\\\\DigitalTestApps\\\\Remote Toolkit\\\\Version 2.90\\\\Tools')\n",
      "clr.AddReference(\"Agilent.Infiniium.AppFW.Remote\")\n",
      "from Agilent.Infiniium.AppFW.Remote import *"
     ],
     "language": "python",
     "metadata": {},
     "outputs": [],
     "prompt_number": 2
    },
    {
     "cell_type": "code",
     "collapsed": false,
     "input": [
      "scope.ask(\"*idn?\")"
     ],
     "language": "python",
     "metadata": {},
     "outputs": [
      {
       "metadata": {},
       "output_type": "pyout",
       "prompt_number": 3,
       "text": [
        "u'Agilent Technologies,MSOX93204A,MY53240105,05.10.0003\\n'"
       ]
      }
     ],
     "prompt_number": 3
    },
    {
     "cell_type": "code",
     "collapsed": false,
     "input": [
      "scope.write(\":SYSTEM:LAUNCH 'N5393D/N5393E PCIExpress Test App'\") # Launch the compliance app using the pyvisa instrument connection"
     ],
     "language": "python",
     "metadata": {},
     "outputs": []
    },
    {
     "cell_type": "code",
     "collapsed": false,
     "input": [
      "remoteObj = RemoteAteUtilities.GetRemoteAte(scopeIpAddress) # Connect to the compliance app\n",
      "remoteApp = IRemoteAte(remoteObj)"
     ],
     "language": "python",
     "metadata": {},
     "outputs": [],
     "prompt_number": 6
    },
    {
     "cell_type": "code",
     "collapsed": false,
     "input": [
      "remoteApp.SetConfig(\"TestPoint_Transmitter\", \"1.0\")\n",
      "testsinfos = remoteApp.GetCurrentOptions(\"TestsInfo\")"
     ],
     "language": "python",
     "metadata": {},
     "outputs": [],
     "prompt_number": 7
    },
    {
     "cell_type": "code",
     "collapsed": false,
     "input": [
      "type(testsinfos[0])"
     ],
     "language": "python",
     "metadata": {},
     "outputs": [
      {
       "metadata": {},
       "output_type": "pyout",
       "prompt_number": 12,
       "text": [
        "Agilent.Infiniium.AppFW.Remote.TestInfo"
       ]
      }
     ],
     "prompt_number": 12
    }
   ],
   "metadata": {}
  }
 ]
}