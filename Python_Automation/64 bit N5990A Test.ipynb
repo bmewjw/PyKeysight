{
 "cells": [
  {
   "cell_type": "code",
   "execution_count": 1,
   "metadata": {
    "collapsed": false
   },
   "outputs": [
    {
     "data": {
      "text/plain": [
       "'2.7.10 |Anaconda 2.3.0 (64-bit)| (default, May 28 2015, 16:44:52) [MSC v.1500 64 bit (AMD64)]'"
      ]
     },
     "execution_count": 1,
     "metadata": {},
     "output_type": "execute_result"
    }
   ],
   "source": [
    "import sys\n",
    "sys.version"
   ]
  },
  {
   "cell_type": "code",
   "execution_count": 2,
   "metadata": {
    "collapsed": false
   },
   "outputs": [],
   "source": [
    "import time\n",
    "import win32api\n",
    "sys.path.append('C:\\\\Program Files (x86)\\\\BitifEye\\\\ValiFrame\\\\PCI-Express3') # Add the location of the Valiframe dll's to the system path\n",
    "import clr # Import the Common Runtime Library Python module\n",
    "\n",
    "clr.AddReference(\"ValiFrameRemote\") # Create a reference from CLR to the ValiFrameRemote DLL\n",
    "clr.AddReference(\"VFBase\") # Create a reference from CLR to the VFBase DLL\n",
    "clr.AddReference(\"VFSequence\") # Create a reference from CLR to the VFSequence DLL\n",
    "clr.AddReference(\"VFUserInterface\") # Create a reference from CLR to the VFUserInterface DLL\n",
    "\n",
    "from BitifEye.ValiFrame.ValiFrameRemote import * # Import the entire ValiFrameRemote namespace from the DLL\n",
    "from BitifEye.ValiFrame.Base import * # Import the entire Base namespace from the DLL\n",
    "from BitifEye.ValiFrame.Sequence import * # Import the entire Sequence namespace from the DLL\n",
    "from BitifEye.ValiFrame.UserInterface import * # Import the entire UserInterface namespace from the DLL\n",
    "from BitifEye.Controls import * # Import the entire Controls namespace from the DLL"
   ]
  },
  {
   "cell_type": "code",
   "execution_count": 5,
   "metadata": {
    "collapsed": false
   },
   "outputs": [
    {
     "ename": "TypeError",
     "evalue": "no constructor matches given arguments",
     "output_type": "error",
     "traceback": [
      "\u001b[1;31m---------------------------------------------------------------------------\u001b[0m",
      "\u001b[1;31mTypeError\u001b[0m                                 Traceback (most recent call last)",
      "\u001b[1;32m<ipython-input-5-4e9cc6f6dba3>\u001b[0m in \u001b[0;36m<module>\u001b[1;34m()\u001b[0m\n\u001b[1;32m----> 1\u001b[1;33m \u001b[0mValiFrameRemote\u001b[0m\u001b[1;33m(\u001b[0m\u001b[1;33m)\u001b[0m\u001b[1;33m\u001b[0m\u001b[0m\n\u001b[0m",
      "\u001b[1;31mTypeError\u001b[0m: no constructor matches given arguments"
     ]
    }
   ],
   "source": [
    "ValiFrameRemote()"
   ]
  },
  {
   "cell_type": "code",
   "execution_count": 3,
   "metadata": {
    "collapsed": false
   },
   "outputs": [
    {
     "ename": "TypeError",
     "evalue": "no constructor matches given arguments",
     "output_type": "error",
     "traceback": [
      "\u001b[1;31m---------------------------------------------------------------------------\u001b[0m",
      "\u001b[1;31mTypeError\u001b[0m                                 Traceback (most recent call last)",
      "\u001b[1;32m<ipython-input-3-cb925464ff69>\u001b[0m in \u001b[0;36m<module>\u001b[1;34m()\u001b[0m\n\u001b[1;32m----> 1\u001b[1;33m \u001b[0mmy_vf_pcie\u001b[0m \u001b[1;33m=\u001b[0m \u001b[0mValiFrameRemote\u001b[0m\u001b[1;33m(\u001b[0m\u001b[1;33m)\u001b[0m \u001b[1;31m# Creates an instance of the ValiFrameRemote class\u001b[0m\u001b[1;33m\u001b[0m\u001b[0m\n\u001b[0m\u001b[0;32m      2\u001b[0m \u001b[0mget_apps\u001b[0m \u001b[1;33m=\u001b[0m \u001b[0mmy_vf_pcie\u001b[0m\u001b[1;33m.\u001b[0m\u001b[0mGetApplications\u001b[0m\u001b[1;33m(\u001b[0m\u001b[1;33m)\u001b[0m\u001b[1;33m\u001b[0m\u001b[0m\n\u001b[0;32m      3\u001b[0m \u001b[1;33m[\u001b[0m\u001b[0mstr\u001b[0m\u001b[1;33m(\u001b[0m\u001b[0mi\u001b[0m\u001b[1;33m)\u001b[0m \u001b[1;32mfor\u001b[0m \u001b[0mi\u001b[0m \u001b[1;32min\u001b[0m \u001b[0mget_apps\u001b[0m\u001b[1;33m]\u001b[0m\u001b[1;33m\u001b[0m\u001b[0m\n",
      "\u001b[1;31mTypeError\u001b[0m: no constructor matches given arguments"
     ]
    }
   ],
   "source": [
    "my_vf_pcie = ValiFrameRemote() # Creates an instance of the ValiFrameRemote class\n",
    "get_apps = my_vf_pcie.GetApplications()\n",
    "[str(i) for i in get_apps]"
   ]
  },
  {
   "cell_type": "code",
   "execution_count": 17,
   "metadata": {
    "collapsed": false
   },
   "outputs": [
    {
     "data": {
      "text/plain": [
       "True"
      ]
     },
     "execution_count": 17,
     "metadata": {},
     "output_type": "execute_result"
    }
   ],
   "source": [
    "my_vf_pcie.InitApplication(\"PciExpress3\")"
   ]
  },
  {
   "cell_type": "code",
   "execution_count": 5,
   "metadata": {
    "collapsed": false
   },
   "outputs": [],
   "source": [
    "my_vf_mphy.LoadProject(\"my_MPHY_proj.vfp\")"
   ]
  },
  {
   "cell_type": "code",
   "execution_count": 7,
   "metadata": {
    "collapsed": false
   },
   "outputs": [
    {
     "name": "stdout",
     "output_type": "stream",
     "text": [
      "5510089 Reference Clock Calibration\n",
      "5510000 Level Calibration Terminated Data0\n",
      "5510005 Level Calibration Into Open Data0\n",
      "5510001 Level Calibration Terminated Data1\n",
      "5510006 Level Calibration Into Open Data1\n",
      "5510120 ISI Calibration Gear 1 & Gear 2\n",
      "5510030 Short Term RJ Calibration 1248 MBit/s\n",
      "5510040 Low Frequency RJ Calibration 1248 MBit/s\n",
      "5510020 High Frequency SJ Calibration 1248 MBit/s\n",
      "5510010 SJ Calibration 1248 MBit/s\n",
      "5510090 ISI Calibration (J20) 1248 MBit/s\n",
      "5510100 Accumulated Voltage Calibration with Jitter Terminated HS 1248 MBit/s\n",
      "5510060 Accumulated Voltage Calibration Terminated HS 1248 MBit/s\n",
      "5500000 Test 2.1.1 - HS-RX Differential Input Voltage Amplitude Data0 at 1.248 GBit/s\n",
      "5500040 Test 2.1.3 - HS-RX Common-Mode Input Voltage Tolerance Data0 at 1.248 GBit/s\n",
      "5500200 Test 2.1.8 - HS-RX Frequency Offset Tolerance (fOFFSET-RX) during HS-Burst Data0 at 1.248 GBit/s\n",
      "5500240 Test 2.1.8b - HS-RX Frequency Offset Tolerance (fOFFSET-RX) during HS-Continuous Mode Data0 at 1.248 GBit/s\n",
      "5500280 Test 2.1.9 - HS-RX Prepare Length Verification Data0 at 1.248 GBit/s\n",
      "5500320 Test 2.1.10 - HS-RX Sync Length Verification Data0 at 1.248 GBit/s\n",
      "5500080 Test 2.1.4 - HS-RX Differential Termination Enable Time (T TERM-ON-HS-RX ) Data0 at 1.248 GBit/s\n",
      "5500120 Test 2.1.5 - HS-RX Differential Termination Disable Time (T TERM-OFF-HS-RX ) Data0 at 1.248 GBit/s\n",
      "5500360 Test 2.1.2 - HS-RX Accumulated Differential Input Voltage Tolerance Data0 at 1.248 GBit/s\n",
      "5500400 Test 2.1.7 - Receiver Jitter Tolerance Data0 at 1.248 GBit/s\n",
      "5500440 Jitter Sensitivity Data0 at 1.248 GBit/s\n",
      "5500480 Low Frequency Jitter Sensitivity Data0 at 1.248 GBit/s\n",
      "5500001 Test 2.1.1 - HS-RX Differential Input Voltage Amplitude Data1 at 1.248 GBit/s\n",
      "5500041 Test 2.1.3 - HS-RX Common-Mode Input Voltage Tolerance Data1 at 1.248 GBit/s\n",
      "5500201 Test 2.1.8 - HS-RX Frequency Offset Tolerance (fOFFSET-RX) during HS-Burst Data1 at 1.248 GBit/s\n",
      "5500241 Test 2.1.8b - HS-RX Frequency Offset Tolerance (fOFFSET-RX) during HS-Continuous Mode Data1 at 1.248 GBit/s\n",
      "5500281 Test 2.1.9 - HS-RX Prepare Length Verification Data1 at 1.248 GBit/s\n",
      "5500321 Test 2.1.10 - HS-RX Sync Length Verification Data1 at 1.248 GBit/s\n",
      "5500081 Test 2.1.4 - HS-RX Differential Termination Enable Time (T TERM-ON-HS-RX ) Data1 at 1.248 GBit/s\n",
      "5500121 Test 2.1.5 - HS-RX Differential Termination Disable Time (T TERM-OFF-HS-RX ) Data1 at 1.248 GBit/s\n",
      "5500361 Test 2.1.2 - HS-RX Accumulated Differential Input Voltage Tolerance Data1 at 1.248 GBit/s\n",
      "5500401 Test 2.1.7 - Receiver Jitter Tolerance Data1 at 1.248 GBit/s\n",
      "5500441 Jitter Sensitivity Data1 at 1.248 GBit/s\n",
      "5500880 Test 2.3.1 - SYS-RX Differential Input Voltage Amplitude Data0 at 26 MBit/s\n",
      "5500890 Test 2.3.3 - SYS-RX Common-Mode Input Voltage Tolerance Data0 at 26 MBit/s\n",
      "5500900 Test 2.3.4 - SYS-RX Differential Termination Enable Time (T TERM-ON-SYS-RX ) Data0 at 26 MBit/s\n",
      "5500904 Test 2.3.5 - SYS-RX Differential Termination Disable Time (T TERM-OFF-SYS-RX ) Data0 at 26 MBit/s\n",
      "5500882 Test 2.3.1 - SYS-RX Differential Input Voltage Amplitude Data1 at 26 MBit/s\n",
      "5500892 Test 2.3.3 - SYS-RX Common-Mode Input Voltage Tolerance Data1 at 26 MBit/s\n",
      "5500901 Test 2.3.4 - SYS-RX Differential Termination Enable Time (T TERM-ON-SYS-RX ) Data1 at 26 MBit/s\n",
      "5500905 Test 2.3.5 - SYS-RX Differential Termination Disable Time (T TERM-OFF-SYS-RX ) Data1 at 26 MBit/s\n",
      "5500881 Test 2.3.1 - SYS-RX Differential Input Voltage Amplitude Data0 at 26 MBit/s\n",
      "5500891 Test 2.3.3 - SYS-RX Common-Mode Input Voltage Tolerance Data0 at 26 MBit/s\n",
      "5500883 Test 2.3.1 - SYS-RX Differential Input Voltage Amplitude Data1 at 26 MBit/s\n",
      "5500893 Test 2.3.3 - SYS-RX Common-Mode Input Voltage Tolerance Data1 at 26 MBit/s\n",
      "5510098 Interference Calibration\n",
      "5502099 Test 2.4.7 - SQ-RX Squelch RF Interference Tolerance (V_INT-SQ, f_INT-SQ) Data0\n",
      "5502100 Common Mode Interference Data0 at 1.248 GBit/s\n",
      "5511997 Setup Procedure Full\n",
      "5511998 Setup Procedure Pattern\n",
      "5511999 Setup Procedure Fast\n"
     ]
    }
   ],
   "source": [
    "procedureIDs = procedureNames = [] # The variable names must be assigned to something but are overwritten in the next call\n",
    "_, procedureIDs, procedureNames = my_vf_mphy.GetProcedures(procedureIDs, procedureNames)\n",
    "procedureIDs = [int(id) for id in procedureIDs] # Convert to a python list of integers\n",
    "procedureNames = [str(name) for name in procedureNames] # Convert to a python list of strings\n",
    "procs = zip(procedureIDs, procedureNames) # Zip the id's & names together. A dictionary may also be a useful way to store these.\n",
    "for proc_id,proc_name in procs:\n",
    "    print proc_id, proc_name"
   ]
  },
  {
   "cell_type": "code",
   "execution_count": 9,
   "metadata": {
    "collapsed": false
   },
   "outputs": [
    {
     "data": {
      "text/plain": [
       "(True,\n",
       " u'<?xml version=\"1.0\" encoding=\"utf-16\"?>\\r\\n<TestResults>\\r\\n  <Summary>\\r\\n    <ProcedureName>Test 2.3.1 - SYS-RX Differential Input Voltage Amplitude Data0 at 26 MBit/s</ProcedureName>\\r\\n    <ProcedureID>5500880</ProcedureID>\\r\\n    <Result>Incomplete</Result>\\r\\n    <DateTime>1/9/2015 12:23:49 PM</DateTime>\\r\\n  </Summary>\\r\\n</TestResults>')"
      ]
     },
     "execution_count": 9,
     "metadata": {},
     "output_type": "execute_result"
    }
   ],
   "source": [
    "result = str()\n",
    "my_vf_mphy.RunProcedure(5500880, result)"
   ]
  },
  {
   "cell_type": "code",
   "execution_count": null,
   "metadata": {
    "collapsed": false
   },
   "outputs": [],
   "source": []
  }
 ],
 "metadata": {
  "kernelspec": {
   "display_name": "Python 2",
   "language": "python",
   "name": "python2"
  },
  "language_info": {
   "codemirror_mode": {
    "name": "ipython",
    "version": 2
   },
   "file_extension": ".py",
   "mimetype": "text/x-python",
   "name": "python",
   "nbconvert_exporter": "python",
   "pygments_lexer": "ipython2",
   "version": "2.7.10"
  }
 },
 "nbformat": 4,
 "nbformat_minor": 0
}
