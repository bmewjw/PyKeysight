{
 "metadata": {
  "name": "",
  "signature": "sha256:c735dd80a17b1bd2ec8364658383f5851c6422cef4f6e57db5c9fad01f72b95f"
 },
 "nbformat": 3,
 "nbformat_minor": 0,
 "worksheets": [
  {
   "cells": [
    {
     "cell_type": "code",
     "collapsed": false,
     "input": [
      "import sys\n",
      "sys.version"
     ],
     "language": "python",
     "metadata": {},
     "outputs": [
      {
       "metadata": {},
       "output_type": "pyout",
       "prompt_number": 1,
       "text": [
        "'2.7.8 |Anaconda 2.1.0 (64-bit)| (default, Jul  2 2014, 15:12:11) [MSC v.1500 64 bit (AMD64)]'"
       ]
      }
     ],
     "prompt_number": 1
    },
    {
     "cell_type": "code",
     "collapsed": false,
     "input": [
      "import time\n",
      "import win32api\n",
      "sys.path.append('C:\\\\Program Files (x86)\\\\BitifEye\\\\ValiFrame\\\\MPhy') # Add the location of the Valiframe dll's to the system path\n",
      "import clr # Import the Common Runtime Library Python module\n",
      "\n",
      "clr.AddReference(\"ValiFrameRemote\") # Create a reference from CLR to the ValiFrameRemote DLL\n",
      "clr.AddReference(\"VFBase\") # Create a reference from CLR to the VFBase DLL\n",
      "clr.AddReference(\"VFSequence\") # Create a reference from CLR to the VFSequence DLL\n",
      "clr.AddReference(\"VFUserInterface\") # Create a reference from CLR to the VFUserInterface DLL\n",
      "\n",
      "from BitifEye.ValiFrame.ValiFrameRemote import * # Import the entire ValiFrameRemote namespace from the DLL\n",
      "from BitifEye.ValiFrame.Base import * # Import the entire Base namespace from the DLL\n",
      "from BitifEye.ValiFrame.Sequence import * # Import the entire Sequence namespace from the DLL\n",
      "from BitifEye.ValiFrame.UserInterface import * # Import the entire UserInterface namespace from the DLL\n",
      "from BitifEye.Controls import * # Import the entire Controls namespace from the DLL"
     ],
     "language": "python",
     "metadata": {},
     "outputs": [],
     "prompt_number": 2
    },
    {
     "cell_type": "code",
     "collapsed": false,
     "input": [
      "my_vf_mphy = ValiFrameRemote() # Creates an instance of the ValiFrameRemote class"
     ],
     "language": "python",
     "metadata": {},
     "outputs": [],
     "prompt_number": 3
    },
    {
     "cell_type": "code",
     "collapsed": false,
     "input": [
      "my_vf_mphy.InitApplication(\"MPhy\")"
     ],
     "language": "python",
     "metadata": {},
     "outputs": [
      {
       "metadata": {},
       "output_type": "pyout",
       "prompt_number": 4,
       "text": [
        "True"
       ]
      }
     ],
     "prompt_number": 4
    }
   ],
   "metadata": {}
  }
 ]
}