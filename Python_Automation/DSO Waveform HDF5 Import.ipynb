{
 "cells": [
  {
   "cell_type": "code",
   "execution_count": 1,
   "metadata": {
    "collapsed": true
   },
   "outputs": [],
   "source": [
    "import h5py\n",
    "import numpy as np"
   ]
  },
  {
   "cell_type": "code",
   "execution_count": 8,
   "metadata": {
    "collapsed": false
   },
   "outputs": [
    {
     "name": "stdout",
     "output_type": "stream",
     "text": [
      "hdf5.h5\n",
      "[u'FileType', u'Frame', u'Waveforms']\n",
      "[<HDF5 group \"/FileType\" (1 members)>, <HDF5 group \"/Frame\" (1 members)>, <HDF5 group \"/Waveforms\" (1 members)>]\n",
      "[(u'FileType', <HDF5 group \"/FileType\" (1 members)>), (u'Frame', <HDF5 group \"/Frame\" (1 members)>), (u'Waveforms', <HDF5 group \"/Waveforms\" (1 members)>)]\n",
      " \n",
      "[u'AgilentH5FileType']\n",
      "[u'TheFrame']\n",
      "[u'Channel 1']\n",
      " \n",
      "Model: DSO90804A\n",
      "SN: MY50524026\n",
      "Date: 10-Jul-2013 15:34:11\n",
      " \n"
     ]
    },
    {
     "ename": "KeyError",
     "evalue": "\"Unable to open object (Object 'channel 3' doesn't exist)\"",
     "output_type": "error",
     "traceback": [
      "\u001b[1;31m---------------------------------------------------------------------------\u001b[0m",
      "\u001b[1;31mKeyError\u001b[0m                                  Traceback (most recent call last)",
      "\u001b[1;32m<ipython-input-8-23284c0d0e14>\u001b[0m in \u001b[0;36m<module>\u001b[1;34m()\u001b[0m\n\u001b[0;32m     37\u001b[0m \u001b[1;33m\u001b[0m\u001b[0m\n\u001b[0;32m     38\u001b[0m \u001b[1;31m## Create Channel Object\u001b[0m\u001b[1;33m\u001b[0m\u001b[1;33m\u001b[0m\u001b[0m\n\u001b[1;32m---> 39\u001b[1;33m \u001b[0msubgroupChan\u001b[0m \u001b[1;33m=\u001b[0m \u001b[0mgroupWaveforms\u001b[0m\u001b[1;33m[\u001b[0m\u001b[1;34m'Channel 3'\u001b[0m\u001b[1;33m]\u001b[0m\u001b[1;33m\u001b[0m\u001b[0m\n\u001b[0m\u001b[0;32m     40\u001b[0m \u001b[1;33m\u001b[0m\u001b[0m\n\u001b[0;32m     41\u001b[0m \u001b[1;31m## Determine Member Names\u001b[0m\u001b[1;33m\u001b[0m\u001b[1;33m\u001b[0m\u001b[0m\n",
      "\u001b[1;32mh5py\\_objects.pyx\u001b[0m in \u001b[0;36mh5py._objects.with_phil.wrapper (D:\\Build\\h5py\\h5py-2.4.x\\h5py\\_objects.c:2413)\u001b[1;34m()\u001b[0m\n",
      "\u001b[1;32mh5py\\_objects.pyx\u001b[0m in \u001b[0;36mh5py._objects.with_phil.wrapper (D:\\Build\\h5py\\h5py-2.4.x\\h5py\\_objects.c:2370)\u001b[1;34m()\u001b[0m\n",
      "\u001b[1;32mC:\\Anaconda\\lib\\site-packages\\h5py\\_hl\\group.pyc\u001b[0m in \u001b[0;36m__getitem__\u001b[1;34m(self, name)\u001b[0m\n\u001b[0;32m    158\u001b[0m                 \u001b[1;32mraise\u001b[0m \u001b[0mValueError\u001b[0m\u001b[1;33m(\u001b[0m\u001b[1;34m\"Invalid HDF5 object reference\"\u001b[0m\u001b[1;33m)\u001b[0m\u001b[1;33m\u001b[0m\u001b[0m\n\u001b[0;32m    159\u001b[0m         \u001b[1;32melse\u001b[0m\u001b[1;33m:\u001b[0m\u001b[1;33m\u001b[0m\u001b[0m\n\u001b[1;32m--> 160\u001b[1;33m             \u001b[0moid\u001b[0m \u001b[1;33m=\u001b[0m \u001b[0mh5o\u001b[0m\u001b[1;33m.\u001b[0m\u001b[0mopen\u001b[0m\u001b[1;33m(\u001b[0m\u001b[0mself\u001b[0m\u001b[1;33m.\u001b[0m\u001b[0mid\u001b[0m\u001b[1;33m,\u001b[0m \u001b[0mself\u001b[0m\u001b[1;33m.\u001b[0m\u001b[0m_e\u001b[0m\u001b[1;33m(\u001b[0m\u001b[0mname\u001b[0m\u001b[1;33m)\u001b[0m\u001b[1;33m,\u001b[0m \u001b[0mlapl\u001b[0m\u001b[1;33m=\u001b[0m\u001b[0mself\u001b[0m\u001b[1;33m.\u001b[0m\u001b[0m_lapl\u001b[0m\u001b[1;33m)\u001b[0m\u001b[1;33m\u001b[0m\u001b[0m\n\u001b[0m\u001b[0;32m    161\u001b[0m \u001b[1;33m\u001b[0m\u001b[0m\n\u001b[0;32m    162\u001b[0m         \u001b[0motype\u001b[0m \u001b[1;33m=\u001b[0m \u001b[0mh5i\u001b[0m\u001b[1;33m.\u001b[0m\u001b[0mget_type\u001b[0m\u001b[1;33m(\u001b[0m\u001b[0moid\u001b[0m\u001b[1;33m)\u001b[0m\u001b[1;33m\u001b[0m\u001b[0m\n",
      "\u001b[1;32mh5py\\_objects.pyx\u001b[0m in \u001b[0;36mh5py._objects.with_phil.wrapper (D:\\Build\\h5py\\h5py-2.4.x\\h5py\\_objects.c:2413)\u001b[1;34m()\u001b[0m\n",
      "\u001b[1;32mh5py\\_objects.pyx\u001b[0m in \u001b[0;36mh5py._objects.with_phil.wrapper (D:\\Build\\h5py\\h5py-2.4.x\\h5py\\_objects.c:2370)\u001b[1;34m()\u001b[0m\n",
      "\u001b[1;32mh5py\\h5o.pyx\u001b[0m in \u001b[0;36mh5py.h5o.open (D:\\Build\\h5py\\h5py-2.4.x\\h5py\\h5o.c:3464)\u001b[1;34m()\u001b[0m\n",
      "\u001b[1;31mKeyError\u001b[0m: \"Unable to open object (Object 'channel 3' doesn't exist)\""
     ]
    }
   ],
   "source": [
    "## open file HDF5 file using h5py\n",
    "f1 = h5py.File('hdf5.h5', 'r')\n",
    "print f1.filename\n",
    "\n",
    "## file 'keys()' method\n",
    "## Get a list containing member names\n",
    "print f1.keys()\n",
    "## file 'values()' method\n",
    "## Get a list containing member objects\n",
    "print f1.values()\n",
    "## file 'items()' method\n",
    "## Get a list containing (name, object) pairs\n",
    "print f1.items()\n",
    "print ' '\n",
    "\n",
    "## create object for each of the groups in HDF5 file\n",
    "groupFileType = f1['FileType']\n",
    "groupFrame = f1['Frame']\n",
    "groupWaveforms = f1['Waveforms']\n",
    "\n",
    "## Determine Member Names\n",
    "print groupFileType.keys()\n",
    "print groupFrame.keys()\n",
    "print groupWaveforms.keys()\n",
    "print ' '\n",
    "\n",
    "## Create Frame Object\n",
    "subgroupFrame = groupFrame['TheFrame']\n",
    "## Create Variable with Frame information\n",
    "mymodel = subgroupFrame.value[0]\n",
    "print 'Model: ' + mymodel\n",
    "mySN = subgroupFrame.value[1]\n",
    "print 'SN: ' + mySN\n",
    "mydate = subgroupFrame.value[2]\n",
    "print 'Date: ' + mydate\n",
    "print ' '\n",
    "\n",
    "## Create Channel Object\n",
    "subgroupChan = groupWaveforms['Channel 3']\n",
    "\n",
    "## Determine Member Names\n",
    "print subgroupChan.keys()\n",
    "## Create Waveform Data Object\n",
    "subgroupData = subgroupChan['Channel 3Data']\n",
    "\n",
    "## Determine member names for Chan1 attributes\n",
    "print subgroupChan.attrs.keys()\n",
    "print subgroupChan.attrs.values()\n",
    "print subgroupChan.attrs.items()\n",
    "print ' '\n",
    "\n",
    "mychankeys = subgroupChan.attrs.keys()\n",
    "mychansetup = subgroupChan.attrs.values()\n",
    "\n",
    "## print x axis setup values\n",
    "for x in range(len(mychankeys)):\n",
    "     print mychankeys[x]\n",
    "     print mychansetup[x]\n",
    "     print ' '\n",
    "\n",
    "## Create Float32 Array with Waveform Data from Channel 1\n",
    "print subgroupData.dtype\n",
    "myarray = subgroupData.value\n",
    "## number of elements in the waveform array\n",
    "print myarray.size\n",
    "## array\n",
    "print myarray\n",
    "\n",
    "## close file\n",
    "f1.close()"
   ]
  },
  {
   "cell_type": "code",
   "execution_count": null,
   "metadata": {
    "collapsed": true
   },
   "outputs": [],
   "source": []
  }
 ],
 "metadata": {
  "kernelspec": {
   "display_name": "Python 2",
   "language": "python",
   "name": "python2"
  },
  "language_info": {
   "codemirror_mode": {
    "name": "ipython",
    "version": 2
   },
   "file_extension": ".py",
   "mimetype": "text/x-python",
   "name": "python",
   "nbconvert_exporter": "python",
   "pygments_lexer": "ipython2",
   "version": "2.7.7"
  }
 },
 "nbformat": 4,
 "nbformat_minor": 0
}
