{
 "metadata": {
  "name": ""
 },
 "nbformat": 3,
 "nbformat_minor": 0,
 "worksheets": [
  {
   "cells": [
    {
     "cell_type": "markdown",
     "metadata": {},
     "source": [
      "<ol>\n",
      "<li>What is Phase Noise & Who Cares?\n",
      "<li>Phase Noise & Jitter\n",
      "<li>Converting Jitter Spectrum to Phase Noise\n",
      "<li>Lowering the Noise Floor\n",
      "</ol>"
     ]
    },
    {
     "cell_type": "raw",
     "metadata": {},
     "source": [
      "<h3>What is Phase Noise & Who Cares?</h3>\n",
      "\n",
      "I'll let [Wikipedia](http://en.wikipedia.org/wiki/Phase_noise) speak on the matter:<br>\n",
      "\"In signal processing, Phase noise is the frequency domain representation of rapid, short-term, random fluctuations in the phase of a waveform, caused by time domain instabilities (\"jitter\"). Generally speaking, radio frequency engineers speak of the phase noise of an oscillator, whereas digital system engineers work with the jitter of a clock.\"<br>\n",
      "\n",
      "Since the timing of a signal is so crucial to the functional operation of any communications system"
     ]
    },
    {
     "cell_type": "code",
     "collapsed": false,
     "input": [],
     "language": "python",
     "metadata": {},
     "outputs": []
    }
   ],
   "metadata": {}
  }
 ]
}