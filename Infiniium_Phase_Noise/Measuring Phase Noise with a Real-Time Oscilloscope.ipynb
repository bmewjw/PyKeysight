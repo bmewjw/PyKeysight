{
 "metadata": {
  "name": "",
  "signature": "sha256:b99fb98a2cdbc86c048e526de2a40eb56532dcaf6ccb6915cb151d5f29b64ff0"
 },
 "nbformat": 3,
 "nbformat_minor": 0,
 "worksheets": [
  {
   "cells": [
    {
     "cell_type": "markdown",
     "metadata": {},
     "source": [
      "***work in progress***"
     ]
    },
    {
     "cell_type": "heading",
     "level": 1,
     "metadata": {},
     "source": [
      "<div align=right><img src=keysight-logo.png align=right></div>\n",
      "Introduction"
     ]
    },
    {
     "cell_type": "markdown",
     "metadata": {},
     "source": [
      "<p>\n",
      "According to Wikipedia at the time of writing, **\"Phase Noise is the frequency domain representation of rapid, short-term, random fluctuations in the phase of a waveform, caused by time domain instabilities (\"jitter\").\"**\n",
      "Digital engineers are probably more familiar with the term jitter which typically encompasses not just random but deterministic fluctuations also. Phase Noise can be thought of as viewing the jitter in the frequency domain albeit with specific units. The \"noise\" part of the name tells us that only the random components of jitter are considered phase noise.<br>\n",
      "Those analyzing phase noise are typically looking at clocks or oscillators although it is possible to analyze the random jitter on a data signal in terms of the phase noise when using a Real-Time Scope.\n",
      "<p>\n",
      "The typical instrument used to measure phase noise works in the frequency domain, either a Spectrum Analyzer or Signal Source Analyzer.\n",
      "<p>\n",
      "A real-time oscilloscope measures voltage vs time but can also typically extract the timing information from the edges of a signal. This timing information is normally analyzed as jitter (such as the Time Interval Error analysis) but we can also convert this information to the frequency domain with the  use of Fast Fourier Transforms. Once in the frequency domain it's a simple process to convert to units of dBc/Hz - the typical units of Phase Noise analysis.<br>\n",
      "<p>\n",
      "This paper will explore the pros & cons of using a real-tme scope to measure phase noise in comparison with a frequency domain instrument. We will look at the necessary steps, sources of error and compare the results with more traditional methods of measuring phase noise. We will also show ways to improve the phase noise measurement performance of a real-time scope."
     ]
    },
    {
     "cell_type": "heading",
     "level": 1,
     "metadata": {},
     "source": [
      "How a Real-Time Scope Measures Jitter"
     ]
    },
    {
     "cell_type": "markdown",
     "metadata": {},
     "source": []
    }
   ],
   "metadata": {}
  }
 ]
}